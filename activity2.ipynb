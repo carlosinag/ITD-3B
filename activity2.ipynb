{
 "cells": [
  {
   "cell_type": "markdown",
   "id": "d4e43cc0-6f64-4181-93e8-0188a978b899",
   "metadata": {},
   "source": [
    "<h1> Testing python </h1>"
   ]
  },
  {
   "cell_type": "code",
   "execution_count": 1,
   "id": "338bf144-ecdb-4696-9441-e64a3c0f5ccf",
   "metadata": {},
   "outputs": [
    {
     "name": "stdout",
     "output_type": "stream",
     "text": [
      "Hello World!\n"
     ]
    }
   ],
   "source": [
    "print(\"Hello World!\")"
   ]
  },
  {
   "cell_type": "code",
   "execution_count": 2,
   "id": "bf3972f5-0216-4c8a-970f-656b4812a7a2",
   "metadata": {},
   "outputs": [
    {
     "name": "stdout",
     "output_type": "stream",
     "text": [
      "Requirement already satisfied: pandas in c:\\users\\lab4-studentpc19\\appdata\\local\\programs\\python\\python313\\lib\\site-packages (2.2.3)\n",
      "Requirement already satisfied: numpy>=1.26.0 in c:\\users\\lab4-studentpc19\\appdata\\local\\programs\\python\\python313\\lib\\site-packages (from pandas) (2.2.2)\n",
      "Requirement already satisfied: python-dateutil>=2.8.2 in c:\\users\\lab4-studentpc19\\appdata\\local\\programs\\python\\python313\\lib\\site-packages (from pandas) (2.9.0.post0)\n",
      "Requirement already satisfied: pytz>=2020.1 in c:\\users\\lab4-studentpc19\\appdata\\local\\programs\\python\\python313\\lib\\site-packages (from pandas) (2024.2)\n",
      "Requirement already satisfied: tzdata>=2022.7 in c:\\users\\lab4-studentpc19\\appdata\\local\\programs\\python\\python313\\lib\\site-packages (from pandas) (2024.2)\n",
      "Requirement already satisfied: six>=1.5 in c:\\users\\lab4-studentpc19\\appdata\\local\\programs\\python\\python313\\lib\\site-packages (from python-dateutil>=2.8.2->pandas) (1.17.0)\n",
      "Note: you may need to restart the kernel to use updated packages.\n"
     ]
    },
    {
     "name": "stderr",
     "output_type": "stream",
     "text": [
      "\n",
      "[notice] A new release of pip is available: 24.2 -> 25.0\n",
      "[notice] To update, run: python.exe -m pip install --upgrade pip\n"
     ]
    }
   ],
   "source": [
    "pip install pandas"
   ]
  },
  {
   "cell_type": "code",
   "execution_count": 3,
   "id": "67d96b0a-e85d-4a42-9ea5-661f4d852e6f",
   "metadata": {},
   "outputs": [
    {
     "name": "stdout",
     "output_type": "stream",
     "text": [
      "Requirement already satisfied: numpy in c:\\users\\lab4-studentpc19\\appdata\\local\\programs\\python\\python313\\lib\\site-packages (2.2.2)\n",
      "Note: you may need to restart the kernel to use updated packages.\n"
     ]
    },
    {
     "name": "stderr",
     "output_type": "stream",
     "text": [
      "\n",
      "[notice] A new release of pip is available: 24.2 -> 25.0\n",
      "[notice] To update, run: python.exe -m pip install --upgrade pip\n"
     ]
    }
   ],
   "source": [
    "pip install numpy"
   ]
  },
  {
   "cell_type": "code",
   "execution_count": 4,
   "id": "087a2994-74a0-4603-8117-849de9406a84",
   "metadata": {},
   "outputs": [
    {
     "name": "stdout",
     "output_type": "stream",
     "text": [
      "Requirement already satisfied: matplotlib in c:\\users\\lab4-studentpc19\\appdata\\local\\programs\\python\\python313\\lib\\site-packages (3.10.0)\n",
      "Requirement already satisfied: contourpy>=1.0.1 in c:\\users\\lab4-studentpc19\\appdata\\local\\programs\\python\\python313\\lib\\site-packages (from matplotlib) (1.3.1)\n",
      "Requirement already satisfied: cycler>=0.10 in c:\\users\\lab4-studentpc19\\appdata\\local\\programs\\python\\python313\\lib\\site-packages (from matplotlib) (0.12.1)\n",
      "Requirement already satisfied: fonttools>=4.22.0 in c:\\users\\lab4-studentpc19\\appdata\\local\\programs\\python\\python313\\lib\\site-packages (from matplotlib) (4.55.3)\n",
      "Requirement already satisfied: kiwisolver>=1.3.1 in c:\\users\\lab4-studentpc19\\appdata\\local\\programs\\python\\python313\\lib\\site-packages (from matplotlib) (1.4.8)\n",
      "Requirement already satisfied: numpy>=1.23 in c:\\users\\lab4-studentpc19\\appdata\\local\\programs\\python\\python313\\lib\\site-packages (from matplotlib) (2.2.2)\n",
      "Requirement already satisfied: packaging>=20.0 in c:\\users\\lab4-studentpc19\\appdata\\local\\programs\\python\\python313\\lib\\site-packages (from matplotlib) (24.2)\n",
      "Requirement already satisfied: pillow>=8 in c:\\users\\lab4-studentpc19\\appdata\\local\\programs\\python\\python313\\lib\\site-packages (from matplotlib) (11.1.0)\n",
      "Requirement already satisfied: pyparsing>=2.3.1 in c:\\users\\lab4-studentpc19\\appdata\\local\\programs\\python\\python313\\lib\\site-packages (from matplotlib) (3.2.1)\n",
      "Requirement already satisfied: python-dateutil>=2.7 in c:\\users\\lab4-studentpc19\\appdata\\local\\programs\\python\\python313\\lib\\site-packages (from matplotlib) (2.9.0.post0)\n",
      "Requirement already satisfied: six>=1.5 in c:\\users\\lab4-studentpc19\\appdata\\local\\programs\\python\\python313\\lib\\site-packages (from python-dateutil>=2.7->matplotlib) (1.17.0)\n",
      "Note: you may need to restart the kernel to use updated packages.\n"
     ]
    },
    {
     "name": "stderr",
     "output_type": "stream",
     "text": [
      "\n",
      "[notice] A new release of pip is available: 24.2 -> 25.0\n",
      "[notice] To update, run: python.exe -m pip install --upgrade pip\n"
     ]
    }
   ],
   "source": [
    "pip install matplotlib"
   ]
  },
  {
   "cell_type": "code",
   "execution_count": 5,
   "id": "79c373df-96fa-4bf1-93d0-6f512caf791e",
   "metadata": {},
   "outputs": [
    {
     "name": "stdout",
     "output_type": "stream",
     "text": [
      "Requirement already satisfied: seaborn in c:\\users\\lab4-studentpc19\\appdata\\local\\programs\\python\\python313\\lib\\site-packages (0.13.2)\n",
      "Requirement already satisfied: numpy!=1.24.0,>=1.20 in c:\\users\\lab4-studentpc19\\appdata\\local\\programs\\python\\python313\\lib\\site-packages (from seaborn) (2.2.2)\n",
      "Requirement already satisfied: pandas>=1.2 in c:\\users\\lab4-studentpc19\\appdata\\local\\programs\\python\\python313\\lib\\site-packages (from seaborn) (2.2.3)\n",
      "Requirement already satisfied: matplotlib!=3.6.1,>=3.4 in c:\\users\\lab4-studentpc19\\appdata\\local\\programs\\python\\python313\\lib\\site-packages (from seaborn) (3.10.0)\n",
      "Requirement already satisfied: contourpy>=1.0.1 in c:\\users\\lab4-studentpc19\\appdata\\local\\programs\\python\\python313\\lib\\site-packages (from matplotlib!=3.6.1,>=3.4->seaborn) (1.3.1)\n",
      "Requirement already satisfied: cycler>=0.10 in c:\\users\\lab4-studentpc19\\appdata\\local\\programs\\python\\python313\\lib\\site-packages (from matplotlib!=3.6.1,>=3.4->seaborn) (0.12.1)\n",
      "Requirement already satisfied: fonttools>=4.22.0 in c:\\users\\lab4-studentpc19\\appdata\\local\\programs\\python\\python313\\lib\\site-packages (from matplotlib!=3.6.1,>=3.4->seaborn) (4.55.3)\n",
      "Requirement already satisfied: kiwisolver>=1.3.1 in c:\\users\\lab4-studentpc19\\appdata\\local\\programs\\python\\python313\\lib\\site-packages (from matplotlib!=3.6.1,>=3.4->seaborn) (1.4.8)\n",
      "Requirement already satisfied: packaging>=20.0 in c:\\users\\lab4-studentpc19\\appdata\\local\\programs\\python\\python313\\lib\\site-packages (from matplotlib!=3.6.1,>=3.4->seaborn) (24.2)\n",
      "Requirement already satisfied: pillow>=8 in c:\\users\\lab4-studentpc19\\appdata\\local\\programs\\python\\python313\\lib\\site-packages (from matplotlib!=3.6.1,>=3.4->seaborn) (11.1.0)\n",
      "Requirement already satisfied: pyparsing>=2.3.1 in c:\\users\\lab4-studentpc19\\appdata\\local\\programs\\python\\python313\\lib\\site-packages (from matplotlib!=3.6.1,>=3.4->seaborn) (3.2.1)\n",
      "Requirement already satisfied: python-dateutil>=2.7 in c:\\users\\lab4-studentpc19\\appdata\\local\\programs\\python\\python313\\lib\\site-packages (from matplotlib!=3.6.1,>=3.4->seaborn) (2.9.0.post0)\n",
      "Requirement already satisfied: pytz>=2020.1 in c:\\users\\lab4-studentpc19\\appdata\\local\\programs\\python\\python313\\lib\\site-packages (from pandas>=1.2->seaborn) (2024.2)\n",
      "Requirement already satisfied: tzdata>=2022.7 in c:\\users\\lab4-studentpc19\\appdata\\local\\programs\\python\\python313\\lib\\site-packages (from pandas>=1.2->seaborn) (2024.2)\n",
      "Requirement already satisfied: six>=1.5 in c:\\users\\lab4-studentpc19\\appdata\\local\\programs\\python\\python313\\lib\\site-packages (from python-dateutil>=2.7->matplotlib!=3.6.1,>=3.4->seaborn) (1.17.0)\n",
      "Note: you may need to restart the kernel to use updated packages.\n"
     ]
    },
    {
     "name": "stderr",
     "output_type": "stream",
     "text": [
      "\n",
      "[notice] A new release of pip is available: 24.2 -> 25.0\n",
      "[notice] To update, run: python.exe -m pip install --upgrade pip\n"
     ]
    }
   ],
   "source": [
    "pip install seaborn"
   ]
  },
  {
   "cell_type": "code",
   "execution_count": 6,
   "id": "cce22731-25d5-40c1-8609-f4a9a2bdf954",
   "metadata": {},
   "outputs": [],
   "source": [
    "import numpy as np\n",
    "import pandas as pd\n",
    "import matplotlib.pyplot as plt\n",
    "import seaborn as sns"
   ]
  },
  {
   "cell_type": "code",
   "execution_count": 7,
   "id": "9f01cca1-2662-45a8-b27b-70fb33fba972",
   "metadata": {},
   "outputs": [],
   "source": [
    "birds = pd.read_csv('datasets\\\\penguins.csv')"
   ]
  },
  {
   "cell_type": "code",
   "execution_count": 8,
   "id": "5387809c-37fe-4c5b-80bb-037f8de3ce64",
   "metadata": {},
   "outputs": [
    {
     "data": {
      "text/html": [
       "<div>\n",
       "<style scoped>\n",
       "    .dataframe tbody tr th:only-of-type {\n",
       "        vertical-align: middle;\n",
       "    }\n",
       "\n",
       "    .dataframe tbody tr th {\n",
       "        vertical-align: top;\n",
       "    }\n",
       "\n",
       "    .dataframe thead th {\n",
       "        text-align: right;\n",
       "    }\n",
       "</style>\n",
       "<table border=\"1\" class=\"dataframe\">\n",
       "  <thead>\n",
       "    <tr style=\"text-align: right;\">\n",
       "      <th></th>\n",
       "      <th>rowid</th>\n",
       "      <th>species</th>\n",
       "      <th>island</th>\n",
       "      <th>bill_length_mm</th>\n",
       "      <th>bill_depth_mm</th>\n",
       "      <th>flipper_length_mm</th>\n",
       "      <th>body_mass_g</th>\n",
       "      <th>sex</th>\n",
       "      <th>year</th>\n",
       "    </tr>\n",
       "  </thead>\n",
       "  <tbody>\n",
       "    <tr>\n",
       "      <th>0</th>\n",
       "      <td>1</td>\n",
       "      <td>Adelie</td>\n",
       "      <td>Torgersen</td>\n",
       "      <td>39.1</td>\n",
       "      <td>18.7</td>\n",
       "      <td>181.0</td>\n",
       "      <td>3750.0</td>\n",
       "      <td>male</td>\n",
       "      <td>2007</td>\n",
       "    </tr>\n",
       "    <tr>\n",
       "      <th>1</th>\n",
       "      <td>2</td>\n",
       "      <td>Adelie</td>\n",
       "      <td>Torgersen</td>\n",
       "      <td>39.5</td>\n",
       "      <td>17.4</td>\n",
       "      <td>186.0</td>\n",
       "      <td>3800.0</td>\n",
       "      <td>female</td>\n",
       "      <td>2007</td>\n",
       "    </tr>\n",
       "    <tr>\n",
       "      <th>2</th>\n",
       "      <td>3</td>\n",
       "      <td>Adelie</td>\n",
       "      <td>Torgersen</td>\n",
       "      <td>40.3</td>\n",
       "      <td>18.0</td>\n",
       "      <td>195.0</td>\n",
       "      <td>3250.0</td>\n",
       "      <td>female</td>\n",
       "      <td>2007</td>\n",
       "    </tr>\n",
       "    <tr>\n",
       "      <th>3</th>\n",
       "      <td>4</td>\n",
       "      <td>Adelie</td>\n",
       "      <td>Torgersen</td>\n",
       "      <td>NaN</td>\n",
       "      <td>NaN</td>\n",
       "      <td>NaN</td>\n",
       "      <td>NaN</td>\n",
       "      <td>NaN</td>\n",
       "      <td>2007</td>\n",
       "    </tr>\n",
       "    <tr>\n",
       "      <th>4</th>\n",
       "      <td>5</td>\n",
       "      <td>Adelie</td>\n",
       "      <td>Torgersen</td>\n",
       "      <td>36.7</td>\n",
       "      <td>19.3</td>\n",
       "      <td>193.0</td>\n",
       "      <td>3450.0</td>\n",
       "      <td>female</td>\n",
       "      <td>2007</td>\n",
       "    </tr>\n",
       "    <tr>\n",
       "      <th>...</th>\n",
       "      <td>...</td>\n",
       "      <td>...</td>\n",
       "      <td>...</td>\n",
       "      <td>...</td>\n",
       "      <td>...</td>\n",
       "      <td>...</td>\n",
       "      <td>...</td>\n",
       "      <td>...</td>\n",
       "      <td>...</td>\n",
       "    </tr>\n",
       "    <tr>\n",
       "      <th>339</th>\n",
       "      <td>340</td>\n",
       "      <td>Chinstrap</td>\n",
       "      <td>Dream</td>\n",
       "      <td>55.8</td>\n",
       "      <td>19.8</td>\n",
       "      <td>207.0</td>\n",
       "      <td>4000.0</td>\n",
       "      <td>male</td>\n",
       "      <td>2009</td>\n",
       "    </tr>\n",
       "    <tr>\n",
       "      <th>340</th>\n",
       "      <td>341</td>\n",
       "      <td>Chinstrap</td>\n",
       "      <td>Dream</td>\n",
       "      <td>43.5</td>\n",
       "      <td>18.1</td>\n",
       "      <td>202.0</td>\n",
       "      <td>3400.0</td>\n",
       "      <td>female</td>\n",
       "      <td>2009</td>\n",
       "    </tr>\n",
       "    <tr>\n",
       "      <th>341</th>\n",
       "      <td>342</td>\n",
       "      <td>Chinstrap</td>\n",
       "      <td>Dream</td>\n",
       "      <td>49.6</td>\n",
       "      <td>18.2</td>\n",
       "      <td>193.0</td>\n",
       "      <td>3775.0</td>\n",
       "      <td>male</td>\n",
       "      <td>2009</td>\n",
       "    </tr>\n",
       "    <tr>\n",
       "      <th>342</th>\n",
       "      <td>343</td>\n",
       "      <td>Chinstrap</td>\n",
       "      <td>Dream</td>\n",
       "      <td>50.8</td>\n",
       "      <td>19.0</td>\n",
       "      <td>210.0</td>\n",
       "      <td>4100.0</td>\n",
       "      <td>male</td>\n",
       "      <td>2009</td>\n",
       "    </tr>\n",
       "    <tr>\n",
       "      <th>343</th>\n",
       "      <td>344</td>\n",
       "      <td>Chinstrap</td>\n",
       "      <td>Dream</td>\n",
       "      <td>50.2</td>\n",
       "      <td>18.7</td>\n",
       "      <td>198.0</td>\n",
       "      <td>3775.0</td>\n",
       "      <td>female</td>\n",
       "      <td>2009</td>\n",
       "    </tr>\n",
       "  </tbody>\n",
       "</table>\n",
       "<p>344 rows × 9 columns</p>\n",
       "</div>"
      ],
      "text/plain": [
       "     rowid    species     island  bill_length_mm  bill_depth_mm  \\\n",
       "0        1     Adelie  Torgersen            39.1           18.7   \n",
       "1        2     Adelie  Torgersen            39.5           17.4   \n",
       "2        3     Adelie  Torgersen            40.3           18.0   \n",
       "3        4     Adelie  Torgersen             NaN            NaN   \n",
       "4        5     Adelie  Torgersen            36.7           19.3   \n",
       "..     ...        ...        ...             ...            ...   \n",
       "339    340  Chinstrap      Dream            55.8           19.8   \n",
       "340    341  Chinstrap      Dream            43.5           18.1   \n",
       "341    342  Chinstrap      Dream            49.6           18.2   \n",
       "342    343  Chinstrap      Dream            50.8           19.0   \n",
       "343    344  Chinstrap      Dream            50.2           18.7   \n",
       "\n",
       "     flipper_length_mm  body_mass_g     sex  year  \n",
       "0                181.0       3750.0    male  2007  \n",
       "1                186.0       3800.0  female  2007  \n",
       "2                195.0       3250.0  female  2007  \n",
       "3                  NaN          NaN     NaN  2007  \n",
       "4                193.0       3450.0  female  2007  \n",
       "..                 ...          ...     ...   ...  \n",
       "339              207.0       4000.0    male  2009  \n",
       "340              202.0       3400.0  female  2009  \n",
       "341              193.0       3775.0    male  2009  \n",
       "342              210.0       4100.0    male  2009  \n",
       "343              198.0       3775.0  female  2009  \n",
       "\n",
       "[344 rows x 9 columns]"
      ]
     },
     "execution_count": 8,
     "metadata": {},
     "output_type": "execute_result"
    }
   ],
   "source": [
    "birds"
   ]
  },
  {
   "cell_type": "markdown",
   "id": "f0564951-bec7-403a-9207-c49f7ec3adc3",
   "metadata": {},
   "source": [
    "<h1> FILTERING DATA BASED FROM COLUMNS </h1>"
   ]
  },
  {
   "cell_type": "code",
   "execution_count": 9,
   "id": "3aca39c5-58ca-421c-88ee-f4f1a2ca0af5",
   "metadata": {
    "scrolled": true
   },
   "outputs": [
    {
     "data": {
      "text/plain": [
       "0      3750.0\n",
       "1      3800.0\n",
       "2      3250.0\n",
       "3         NaN\n",
       "4      3450.0\n",
       "        ...  \n",
       "339    4000.0\n",
       "340    3400.0\n",
       "341    3775.0\n",
       "342    4100.0\n",
       "343    3775.0\n",
       "Name: body_mass_g, Length: 344, dtype: float64"
      ]
     },
     "execution_count": 9,
     "metadata": {},
     "output_type": "execute_result"
    }
   ],
   "source": [
    "birds['body_mass_g']"
   ]
  },
  {
   "cell_type": "markdown",
   "id": "8098b6d2-f2b5-4420-9ea2-137dabeb4009",
   "metadata": {},
   "source": [
    "<h1> CREATE OWN COLUMNS </h1>"
   ]
  },
  {
   "cell_type": "code",
   "execution_count": 10,
   "id": "e51e1a1a-16e4-4e2f-8046-ff933f3b5f9c",
   "metadata": {},
   "outputs": [],
   "source": [
    "birds['weight'] = birds['body_mass_g'] / 1000"
   ]
  },
  {
   "cell_type": "code",
   "execution_count": 11,
   "id": "492b81a5-226f-4277-b9ad-9b25ca34183b",
   "metadata": {},
   "outputs": [
    {
     "data": {
      "text/html": [
       "<div>\n",
       "<style scoped>\n",
       "    .dataframe tbody tr th:only-of-type {\n",
       "        vertical-align: middle;\n",
       "    }\n",
       "\n",
       "    .dataframe tbody tr th {\n",
       "        vertical-align: top;\n",
       "    }\n",
       "\n",
       "    .dataframe thead th {\n",
       "        text-align: right;\n",
       "    }\n",
       "</style>\n",
       "<table border=\"1\" class=\"dataframe\">\n",
       "  <thead>\n",
       "    <tr style=\"text-align: right;\">\n",
       "      <th></th>\n",
       "      <th>rowid</th>\n",
       "      <th>species</th>\n",
       "      <th>island</th>\n",
       "      <th>bill_length_mm</th>\n",
       "      <th>bill_depth_mm</th>\n",
       "      <th>flipper_length_mm</th>\n",
       "      <th>body_mass_g</th>\n",
       "      <th>sex</th>\n",
       "      <th>year</th>\n",
       "      <th>weight</th>\n",
       "    </tr>\n",
       "  </thead>\n",
       "  <tbody>\n",
       "    <tr>\n",
       "      <th>0</th>\n",
       "      <td>1</td>\n",
       "      <td>Adelie</td>\n",
       "      <td>Torgersen</td>\n",
       "      <td>39.1</td>\n",
       "      <td>18.7</td>\n",
       "      <td>181.0</td>\n",
       "      <td>3750.0</td>\n",
       "      <td>male</td>\n",
       "      <td>2007</td>\n",
       "      <td>3.750</td>\n",
       "    </tr>\n",
       "    <tr>\n",
       "      <th>1</th>\n",
       "      <td>2</td>\n",
       "      <td>Adelie</td>\n",
       "      <td>Torgersen</td>\n",
       "      <td>39.5</td>\n",
       "      <td>17.4</td>\n",
       "      <td>186.0</td>\n",
       "      <td>3800.0</td>\n",
       "      <td>female</td>\n",
       "      <td>2007</td>\n",
       "      <td>3.800</td>\n",
       "    </tr>\n",
       "    <tr>\n",
       "      <th>2</th>\n",
       "      <td>3</td>\n",
       "      <td>Adelie</td>\n",
       "      <td>Torgersen</td>\n",
       "      <td>40.3</td>\n",
       "      <td>18.0</td>\n",
       "      <td>195.0</td>\n",
       "      <td>3250.0</td>\n",
       "      <td>female</td>\n",
       "      <td>2007</td>\n",
       "      <td>3.250</td>\n",
       "    </tr>\n",
       "    <tr>\n",
       "      <th>3</th>\n",
       "      <td>4</td>\n",
       "      <td>Adelie</td>\n",
       "      <td>Torgersen</td>\n",
       "      <td>NaN</td>\n",
       "      <td>NaN</td>\n",
       "      <td>NaN</td>\n",
       "      <td>NaN</td>\n",
       "      <td>NaN</td>\n",
       "      <td>2007</td>\n",
       "      <td>NaN</td>\n",
       "    </tr>\n",
       "    <tr>\n",
       "      <th>4</th>\n",
       "      <td>5</td>\n",
       "      <td>Adelie</td>\n",
       "      <td>Torgersen</td>\n",
       "      <td>36.7</td>\n",
       "      <td>19.3</td>\n",
       "      <td>193.0</td>\n",
       "      <td>3450.0</td>\n",
       "      <td>female</td>\n",
       "      <td>2007</td>\n",
       "      <td>3.450</td>\n",
       "    </tr>\n",
       "    <tr>\n",
       "      <th>...</th>\n",
       "      <td>...</td>\n",
       "      <td>...</td>\n",
       "      <td>...</td>\n",
       "      <td>...</td>\n",
       "      <td>...</td>\n",
       "      <td>...</td>\n",
       "      <td>...</td>\n",
       "      <td>...</td>\n",
       "      <td>...</td>\n",
       "      <td>...</td>\n",
       "    </tr>\n",
       "    <tr>\n",
       "      <th>339</th>\n",
       "      <td>340</td>\n",
       "      <td>Chinstrap</td>\n",
       "      <td>Dream</td>\n",
       "      <td>55.8</td>\n",
       "      <td>19.8</td>\n",
       "      <td>207.0</td>\n",
       "      <td>4000.0</td>\n",
       "      <td>male</td>\n",
       "      <td>2009</td>\n",
       "      <td>4.000</td>\n",
       "    </tr>\n",
       "    <tr>\n",
       "      <th>340</th>\n",
       "      <td>341</td>\n",
       "      <td>Chinstrap</td>\n",
       "      <td>Dream</td>\n",
       "      <td>43.5</td>\n",
       "      <td>18.1</td>\n",
       "      <td>202.0</td>\n",
       "      <td>3400.0</td>\n",
       "      <td>female</td>\n",
       "      <td>2009</td>\n",
       "      <td>3.400</td>\n",
       "    </tr>\n",
       "    <tr>\n",
       "      <th>341</th>\n",
       "      <td>342</td>\n",
       "      <td>Chinstrap</td>\n",
       "      <td>Dream</td>\n",
       "      <td>49.6</td>\n",
       "      <td>18.2</td>\n",
       "      <td>193.0</td>\n",
       "      <td>3775.0</td>\n",
       "      <td>male</td>\n",
       "      <td>2009</td>\n",
       "      <td>3.775</td>\n",
       "    </tr>\n",
       "    <tr>\n",
       "      <th>342</th>\n",
       "      <td>343</td>\n",
       "      <td>Chinstrap</td>\n",
       "      <td>Dream</td>\n",
       "      <td>50.8</td>\n",
       "      <td>19.0</td>\n",
       "      <td>210.0</td>\n",
       "      <td>4100.0</td>\n",
       "      <td>male</td>\n",
       "      <td>2009</td>\n",
       "      <td>4.100</td>\n",
       "    </tr>\n",
       "    <tr>\n",
       "      <th>343</th>\n",
       "      <td>344</td>\n",
       "      <td>Chinstrap</td>\n",
       "      <td>Dream</td>\n",
       "      <td>50.2</td>\n",
       "      <td>18.7</td>\n",
       "      <td>198.0</td>\n",
       "      <td>3775.0</td>\n",
       "      <td>female</td>\n",
       "      <td>2009</td>\n",
       "      <td>3.775</td>\n",
       "    </tr>\n",
       "  </tbody>\n",
       "</table>\n",
       "<p>344 rows × 10 columns</p>\n",
       "</div>"
      ],
      "text/plain": [
       "     rowid    species     island  bill_length_mm  bill_depth_mm  \\\n",
       "0        1     Adelie  Torgersen            39.1           18.7   \n",
       "1        2     Adelie  Torgersen            39.5           17.4   \n",
       "2        3     Adelie  Torgersen            40.3           18.0   \n",
       "3        4     Adelie  Torgersen             NaN            NaN   \n",
       "4        5     Adelie  Torgersen            36.7           19.3   \n",
       "..     ...        ...        ...             ...            ...   \n",
       "339    340  Chinstrap      Dream            55.8           19.8   \n",
       "340    341  Chinstrap      Dream            43.5           18.1   \n",
       "341    342  Chinstrap      Dream            49.6           18.2   \n",
       "342    343  Chinstrap      Dream            50.8           19.0   \n",
       "343    344  Chinstrap      Dream            50.2           18.7   \n",
       "\n",
       "     flipper_length_mm  body_mass_g     sex  year  weight  \n",
       "0                181.0       3750.0    male  2007   3.750  \n",
       "1                186.0       3800.0  female  2007   3.800  \n",
       "2                195.0       3250.0  female  2007   3.250  \n",
       "3                  NaN          NaN     NaN  2007     NaN  \n",
       "4                193.0       3450.0  female  2007   3.450  \n",
       "..                 ...          ...     ...   ...     ...  \n",
       "339              207.0       4000.0    male  2009   4.000  \n",
       "340              202.0       3400.0  female  2009   3.400  \n",
       "341              193.0       3775.0    male  2009   3.775  \n",
       "342              210.0       4100.0    male  2009   4.100  \n",
       "343              198.0       3775.0  female  2009   3.775  \n",
       "\n",
       "[344 rows x 10 columns]"
      ]
     },
     "execution_count": 11,
     "metadata": {},
     "output_type": "execute_result"
    }
   ],
   "source": [
    "birds"
   ]
  },
  {
   "cell_type": "code",
   "execution_count": 12,
   "id": "c93899cd-0b46-472f-a7d0-0a12e4e1751c",
   "metadata": {},
   "outputs": [
    {
     "data": {
      "text/plain": [
       "rowid                 0\n",
       "species               0\n",
       "island                0\n",
       "bill_length_mm        2\n",
       "bill_depth_mm         2\n",
       "flipper_length_mm     2\n",
       "body_mass_g           2\n",
       "sex                  11\n",
       "year                  0\n",
       "weight                2\n",
       "dtype: int64"
      ]
     },
     "execution_count": 12,
     "metadata": {},
     "output_type": "execute_result"
    }
   ],
   "source": [
    "birds.isnull().sum()"
   ]
  },
  {
   "cell_type": "markdown",
   "id": "ebb9ac72-abd6-470d-93b9-ed153a8a36df",
   "metadata": {},
   "source": [
    "<h1> WHAT TO DO WITH NULL VALUES </h1>\n",
    "\n",
    "<p> delete row </p>\n",
    "<p> fill the empty cells with a value </p>"
   ]
  },
  {
   "cell_type": "code",
   "execution_count": 13,
   "id": "2b813f6b-7bca-47a5-baf8-438eea9616fd",
   "metadata": {},
   "outputs": [
    {
     "data": {
      "text/plain": [
       "np.float64(4201.754385964912)"
      ]
     },
     "execution_count": 13,
     "metadata": {},
     "output_type": "execute_result"
    }
   ],
   "source": [
    "birds['body_mass_g'].mean()"
   ]
  },
  {
   "cell_type": "code",
   "execution_count": 14,
   "id": "a68b7e1b-a478-40fc-9a27-aee8b2d47993",
   "metadata": {},
   "outputs": [
    {
     "data": {
      "text/plain": [
       "0    male\n",
       "Name: sex, dtype: object"
      ]
     },
     "execution_count": 14,
     "metadata": {},
     "output_type": "execute_result"
    }
   ],
   "source": [
    "birds['sex'].mode()"
   ]
  },
  {
   "cell_type": "code",
   "execution_count": 15,
   "id": "d9f3840d-de67-4602-9ab5-69c75cf93d97",
   "metadata": {},
   "outputs": [],
   "source": [
    "birds['bill_length_mm'] = birds['bill_length_mm'].fillna(birds['bill_length_mm'].mean())"
   ]
  },
  {
   "cell_type": "code",
   "execution_count": 16,
   "id": "571d3bf5-490a-4516-8a9e-06d8d2055928",
   "metadata": {},
   "outputs": [
    {
     "data": {
      "text/plain": [
       "rowid                 0\n",
       "species               0\n",
       "island                0\n",
       "bill_length_mm        0\n",
       "bill_depth_mm         2\n",
       "flipper_length_mm     2\n",
       "body_mass_g           2\n",
       "sex                  11\n",
       "year                  0\n",
       "weight                2\n",
       "dtype: int64"
      ]
     },
     "execution_count": 16,
     "metadata": {},
     "output_type": "execute_result"
    }
   ],
   "source": [
    "birds.isnull().sum()"
   ]
  },
  {
   "cell_type": "code",
   "execution_count": 17,
   "id": "c67c2dbf-fb3f-4cee-b1a2-585f45b0f17b",
   "metadata": {},
   "outputs": [],
   "source": [
    "birds['body_mass_g'] = birds['body_mass_g'].fillna(birds['body_mass_g'].mean())"
   ]
  },
  {
   "cell_type": "code",
   "execution_count": 18,
   "id": "f65e6416-bfc0-40c6-9d05-035451bfe6cc",
   "metadata": {},
   "outputs": [
    {
     "data": {
      "text/plain": [
       "rowid                 0\n",
       "species               0\n",
       "island                0\n",
       "bill_length_mm        0\n",
       "bill_depth_mm         2\n",
       "flipper_length_mm     2\n",
       "body_mass_g           0\n",
       "sex                  11\n",
       "year                  0\n",
       "weight                2\n",
       "dtype: int64"
      ]
     },
     "execution_count": 18,
     "metadata": {},
     "output_type": "execute_result"
    }
   ],
   "source": [
    "birds.isnull().sum()"
   ]
  },
  {
   "cell_type": "code",
   "execution_count": 19,
   "id": "b74d8e2e-6ab4-46b7-b701-a4b67de3fdee",
   "metadata": {},
   "outputs": [],
   "source": [
    "birds['sex'] = birds['sex'].fillna(birds['sex'].mode()[0])"
   ]
  },
  {
   "cell_type": "code",
   "execution_count": 20,
   "id": "369b4507-e437-47e8-9870-304f3cf5b6d5",
   "metadata": {},
   "outputs": [
    {
     "data": {
      "text/plain": [
       "rowid                0\n",
       "species              0\n",
       "island               0\n",
       "bill_length_mm       0\n",
       "bill_depth_mm        2\n",
       "flipper_length_mm    2\n",
       "body_mass_g          0\n",
       "sex                  0\n",
       "year                 0\n",
       "weight               2\n",
       "dtype: int64"
      ]
     },
     "execution_count": 20,
     "metadata": {},
     "output_type": "execute_result"
    }
   ],
   "source": [
    "birds.isnull().sum()"
   ]
  },
  {
   "cell_type": "code",
   "execution_count": 21,
   "id": "64634c6e-1609-4067-8c5d-134c114deaed",
   "metadata": {},
   "outputs": [],
   "source": [
    "birds['bill_depth_mm'] = birds['bill_depth_mm'].fillna(birds['bill_depth_mm'].mean())"
   ]
  },
  {
   "cell_type": "code",
   "execution_count": 22,
   "id": "cdfbdfd6-b64f-4375-9729-abb859f0c4e4",
   "metadata": {},
   "outputs": [
    {
     "data": {
      "text/plain": [
       "rowid                0\n",
       "species              0\n",
       "island               0\n",
       "bill_length_mm       0\n",
       "bill_depth_mm        0\n",
       "flipper_length_mm    2\n",
       "body_mass_g          0\n",
       "sex                  0\n",
       "year                 0\n",
       "weight               2\n",
       "dtype: int64"
      ]
     },
     "execution_count": 22,
     "metadata": {},
     "output_type": "execute_result"
    }
   ],
   "source": [
    "birds.isnull().sum()"
   ]
  },
  {
   "cell_type": "code",
   "execution_count": 23,
   "id": "c7310a85-1303-4dbb-8ed1-44c01b9b9ec4",
   "metadata": {},
   "outputs": [],
   "source": [
    "birds['flipper_length_mm'] = birds['flipper_length_mm'].fillna(birds['flipper_length_mm'].mean())"
   ]
  },
  {
   "cell_type": "code",
   "execution_count": 24,
   "id": "71e0e89e-88f2-4292-97d4-520dbc628ab3",
   "metadata": {},
   "outputs": [
    {
     "data": {
      "text/plain": [
       "rowid                0\n",
       "species              0\n",
       "island               0\n",
       "bill_length_mm       0\n",
       "bill_depth_mm        0\n",
       "flipper_length_mm    0\n",
       "body_mass_g          0\n",
       "sex                  0\n",
       "year                 0\n",
       "weight               2\n",
       "dtype: int64"
      ]
     },
     "execution_count": 24,
     "metadata": {},
     "output_type": "execute_result"
    }
   ],
   "source": [
    "birds.isnull().sum()"
   ]
  },
  {
   "cell_type": "code",
   "execution_count": 25,
   "id": "ae8218c6-f2ae-451c-b043-7dacace61003",
   "metadata": {},
   "outputs": [],
   "source": [
    "birds['weight'] = birds['weight'].fillna(birds['weight'].mean())"
   ]
  },
  {
   "cell_type": "code",
   "execution_count": 26,
   "id": "fe3e0e65-1a10-48aa-a679-9902c2926268",
   "metadata": {},
   "outputs": [
    {
     "data": {
      "text/plain": [
       "rowid                0\n",
       "species              0\n",
       "island               0\n",
       "bill_length_mm       0\n",
       "bill_depth_mm        0\n",
       "flipper_length_mm    0\n",
       "body_mass_g          0\n",
       "sex                  0\n",
       "year                 0\n",
       "weight               0\n",
       "dtype: int64"
      ]
     },
     "execution_count": 26,
     "metadata": {},
     "output_type": "execute_result"
    }
   ],
   "source": [
    "birds.isnull().sum()"
   ]
  },
  {
   "cell_type": "code",
   "execution_count": 27,
   "id": "2934050e-d434-4f48-96de-b7782bf14c99",
   "metadata": {},
   "outputs": [
    {
     "data": {
      "text/html": [
       "<div>\n",
       "<style scoped>\n",
       "    .dataframe tbody tr th:only-of-type {\n",
       "        vertical-align: middle;\n",
       "    }\n",
       "\n",
       "    .dataframe tbody tr th {\n",
       "        vertical-align: top;\n",
       "    }\n",
       "\n",
       "    .dataframe thead th {\n",
       "        text-align: right;\n",
       "    }\n",
       "</style>\n",
       "<table border=\"1\" class=\"dataframe\">\n",
       "  <thead>\n",
       "    <tr style=\"text-align: right;\">\n",
       "      <th></th>\n",
       "      <th>rowid</th>\n",
       "      <th>bill_length_mm</th>\n",
       "      <th>bill_depth_mm</th>\n",
       "      <th>flipper_length_mm</th>\n",
       "      <th>body_mass_g</th>\n",
       "      <th>year</th>\n",
       "      <th>weight</th>\n",
       "    </tr>\n",
       "  </thead>\n",
       "  <tbody>\n",
       "    <tr>\n",
       "      <th>count</th>\n",
       "      <td>344.000000</td>\n",
       "      <td>344.000000</td>\n",
       "      <td>344.000000</td>\n",
       "      <td>344.000000</td>\n",
       "      <td>344.000000</td>\n",
       "      <td>344.000000</td>\n",
       "      <td>344.000000</td>\n",
       "    </tr>\n",
       "    <tr>\n",
       "      <th>mean</th>\n",
       "      <td>172.500000</td>\n",
       "      <td>43.921930</td>\n",
       "      <td>17.151170</td>\n",
       "      <td>200.915205</td>\n",
       "      <td>4201.754386</td>\n",
       "      <td>2008.029070</td>\n",
       "      <td>4.201754</td>\n",
       "    </tr>\n",
       "    <tr>\n",
       "      <th>std</th>\n",
       "      <td>99.448479</td>\n",
       "      <td>5.443643</td>\n",
       "      <td>1.969027</td>\n",
       "      <td>14.020657</td>\n",
       "      <td>799.613058</td>\n",
       "      <td>0.818356</td>\n",
       "      <td>0.799613</td>\n",
       "    </tr>\n",
       "    <tr>\n",
       "      <th>min</th>\n",
       "      <td>1.000000</td>\n",
       "      <td>32.100000</td>\n",
       "      <td>13.100000</td>\n",
       "      <td>172.000000</td>\n",
       "      <td>2700.000000</td>\n",
       "      <td>2007.000000</td>\n",
       "      <td>2.700000</td>\n",
       "    </tr>\n",
       "    <tr>\n",
       "      <th>25%</th>\n",
       "      <td>86.750000</td>\n",
       "      <td>39.275000</td>\n",
       "      <td>15.600000</td>\n",
       "      <td>190.000000</td>\n",
       "      <td>3550.000000</td>\n",
       "      <td>2007.000000</td>\n",
       "      <td>3.550000</td>\n",
       "    </tr>\n",
       "    <tr>\n",
       "      <th>50%</th>\n",
       "      <td>172.500000</td>\n",
       "      <td>44.250000</td>\n",
       "      <td>17.300000</td>\n",
       "      <td>197.000000</td>\n",
       "      <td>4050.000000</td>\n",
       "      <td>2008.000000</td>\n",
       "      <td>4.050000</td>\n",
       "    </tr>\n",
       "    <tr>\n",
       "      <th>75%</th>\n",
       "      <td>258.250000</td>\n",
       "      <td>48.500000</td>\n",
       "      <td>18.700000</td>\n",
       "      <td>213.000000</td>\n",
       "      <td>4750.000000</td>\n",
       "      <td>2009.000000</td>\n",
       "      <td>4.750000</td>\n",
       "    </tr>\n",
       "    <tr>\n",
       "      <th>max</th>\n",
       "      <td>344.000000</td>\n",
       "      <td>59.600000</td>\n",
       "      <td>21.500000</td>\n",
       "      <td>231.000000</td>\n",
       "      <td>6300.000000</td>\n",
       "      <td>2009.000000</td>\n",
       "      <td>6.300000</td>\n",
       "    </tr>\n",
       "  </tbody>\n",
       "</table>\n",
       "</div>"
      ],
      "text/plain": [
       "            rowid  bill_length_mm  bill_depth_mm  flipper_length_mm  \\\n",
       "count  344.000000      344.000000     344.000000         344.000000   \n",
       "mean   172.500000       43.921930      17.151170         200.915205   \n",
       "std     99.448479        5.443643       1.969027          14.020657   \n",
       "min      1.000000       32.100000      13.100000         172.000000   \n",
       "25%     86.750000       39.275000      15.600000         190.000000   \n",
       "50%    172.500000       44.250000      17.300000         197.000000   \n",
       "75%    258.250000       48.500000      18.700000         213.000000   \n",
       "max    344.000000       59.600000      21.500000         231.000000   \n",
       "\n",
       "       body_mass_g         year      weight  \n",
       "count   344.000000   344.000000  344.000000  \n",
       "mean   4201.754386  2008.029070    4.201754  \n",
       "std     799.613058     0.818356    0.799613  \n",
       "min    2700.000000  2007.000000    2.700000  \n",
       "25%    3550.000000  2007.000000    3.550000  \n",
       "50%    4050.000000  2008.000000    4.050000  \n",
       "75%    4750.000000  2009.000000    4.750000  \n",
       "max    6300.000000  2009.000000    6.300000  "
      ]
     },
     "execution_count": 27,
     "metadata": {},
     "output_type": "execute_result"
    }
   ],
   "source": [
    "birds.describe()"
   ]
  },
  {
   "cell_type": "code",
   "execution_count": 28,
   "id": "66b832f4-e5af-4c3e-92bf-f06d28f17816",
   "metadata": {},
   "outputs": [
    {
     "data": {
      "text/html": [
       "<div>\n",
       "<style scoped>\n",
       "    .dataframe tbody tr th:only-of-type {\n",
       "        vertical-align: middle;\n",
       "    }\n",
       "\n",
       "    .dataframe tbody tr th {\n",
       "        vertical-align: top;\n",
       "    }\n",
       "\n",
       "    .dataframe thead th {\n",
       "        text-align: right;\n",
       "    }\n",
       "</style>\n",
       "<table border=\"1\" class=\"dataframe\">\n",
       "  <thead>\n",
       "    <tr style=\"text-align: right;\">\n",
       "      <th></th>\n",
       "      <th>rowid</th>\n",
       "      <th>species</th>\n",
       "      <th>island</th>\n",
       "      <th>bill_length_mm</th>\n",
       "      <th>bill_depth_mm</th>\n",
       "      <th>flipper_length_mm</th>\n",
       "      <th>body_mass_g</th>\n",
       "      <th>sex</th>\n",
       "      <th>year</th>\n",
       "      <th>weight</th>\n",
       "    </tr>\n",
       "  </thead>\n",
       "  <tbody>\n",
       "    <tr>\n",
       "      <th>0</th>\n",
       "      <td>1</td>\n",
       "      <td>Adelie</td>\n",
       "      <td>Torgersen</td>\n",
       "      <td>39.10000</td>\n",
       "      <td>18.70000</td>\n",
       "      <td>181.000000</td>\n",
       "      <td>3750.000000</td>\n",
       "      <td>male</td>\n",
       "      <td>2007</td>\n",
       "      <td>3.750000</td>\n",
       "    </tr>\n",
       "    <tr>\n",
       "      <th>1</th>\n",
       "      <td>2</td>\n",
       "      <td>Adelie</td>\n",
       "      <td>Torgersen</td>\n",
       "      <td>39.50000</td>\n",
       "      <td>17.40000</td>\n",
       "      <td>186.000000</td>\n",
       "      <td>3800.000000</td>\n",
       "      <td>female</td>\n",
       "      <td>2007</td>\n",
       "      <td>3.800000</td>\n",
       "    </tr>\n",
       "    <tr>\n",
       "      <th>2</th>\n",
       "      <td>3</td>\n",
       "      <td>Adelie</td>\n",
       "      <td>Torgersen</td>\n",
       "      <td>40.30000</td>\n",
       "      <td>18.00000</td>\n",
       "      <td>195.000000</td>\n",
       "      <td>3250.000000</td>\n",
       "      <td>female</td>\n",
       "      <td>2007</td>\n",
       "      <td>3.250000</td>\n",
       "    </tr>\n",
       "    <tr>\n",
       "      <th>3</th>\n",
       "      <td>4</td>\n",
       "      <td>Adelie</td>\n",
       "      <td>Torgersen</td>\n",
       "      <td>43.92193</td>\n",
       "      <td>17.15117</td>\n",
       "      <td>200.915205</td>\n",
       "      <td>4201.754386</td>\n",
       "      <td>male</td>\n",
       "      <td>2007</td>\n",
       "      <td>4.201754</td>\n",
       "    </tr>\n",
       "    <tr>\n",
       "      <th>4</th>\n",
       "      <td>5</td>\n",
       "      <td>Adelie</td>\n",
       "      <td>Torgersen</td>\n",
       "      <td>36.70000</td>\n",
       "      <td>19.30000</td>\n",
       "      <td>193.000000</td>\n",
       "      <td>3450.000000</td>\n",
       "      <td>female</td>\n",
       "      <td>2007</td>\n",
       "      <td>3.450000</td>\n",
       "    </tr>\n",
       "    <tr>\n",
       "      <th>...</th>\n",
       "      <td>...</td>\n",
       "      <td>...</td>\n",
       "      <td>...</td>\n",
       "      <td>...</td>\n",
       "      <td>...</td>\n",
       "      <td>...</td>\n",
       "      <td>...</td>\n",
       "      <td>...</td>\n",
       "      <td>...</td>\n",
       "      <td>...</td>\n",
       "    </tr>\n",
       "    <tr>\n",
       "      <th>339</th>\n",
       "      <td>340</td>\n",
       "      <td>Chinstrap</td>\n",
       "      <td>Dream</td>\n",
       "      <td>55.80000</td>\n",
       "      <td>19.80000</td>\n",
       "      <td>207.000000</td>\n",
       "      <td>4000.000000</td>\n",
       "      <td>male</td>\n",
       "      <td>2009</td>\n",
       "      <td>4.000000</td>\n",
       "    </tr>\n",
       "    <tr>\n",
       "      <th>340</th>\n",
       "      <td>341</td>\n",
       "      <td>Chinstrap</td>\n",
       "      <td>Dream</td>\n",
       "      <td>43.50000</td>\n",
       "      <td>18.10000</td>\n",
       "      <td>202.000000</td>\n",
       "      <td>3400.000000</td>\n",
       "      <td>female</td>\n",
       "      <td>2009</td>\n",
       "      <td>3.400000</td>\n",
       "    </tr>\n",
       "    <tr>\n",
       "      <th>341</th>\n",
       "      <td>342</td>\n",
       "      <td>Chinstrap</td>\n",
       "      <td>Dream</td>\n",
       "      <td>49.60000</td>\n",
       "      <td>18.20000</td>\n",
       "      <td>193.000000</td>\n",
       "      <td>3775.000000</td>\n",
       "      <td>male</td>\n",
       "      <td>2009</td>\n",
       "      <td>3.775000</td>\n",
       "    </tr>\n",
       "    <tr>\n",
       "      <th>342</th>\n",
       "      <td>343</td>\n",
       "      <td>Chinstrap</td>\n",
       "      <td>Dream</td>\n",
       "      <td>50.80000</td>\n",
       "      <td>19.00000</td>\n",
       "      <td>210.000000</td>\n",
       "      <td>4100.000000</td>\n",
       "      <td>male</td>\n",
       "      <td>2009</td>\n",
       "      <td>4.100000</td>\n",
       "    </tr>\n",
       "    <tr>\n",
       "      <th>343</th>\n",
       "      <td>344</td>\n",
       "      <td>Chinstrap</td>\n",
       "      <td>Dream</td>\n",
       "      <td>50.20000</td>\n",
       "      <td>18.70000</td>\n",
       "      <td>198.000000</td>\n",
       "      <td>3775.000000</td>\n",
       "      <td>female</td>\n",
       "      <td>2009</td>\n",
       "      <td>3.775000</td>\n",
       "    </tr>\n",
       "  </tbody>\n",
       "</table>\n",
       "<p>344 rows × 10 columns</p>\n",
       "</div>"
      ],
      "text/plain": [
       "     rowid    species     island  bill_length_mm  bill_depth_mm  \\\n",
       "0        1     Adelie  Torgersen        39.10000       18.70000   \n",
       "1        2     Adelie  Torgersen        39.50000       17.40000   \n",
       "2        3     Adelie  Torgersen        40.30000       18.00000   \n",
       "3        4     Adelie  Torgersen        43.92193       17.15117   \n",
       "4        5     Adelie  Torgersen        36.70000       19.30000   \n",
       "..     ...        ...        ...             ...            ...   \n",
       "339    340  Chinstrap      Dream        55.80000       19.80000   \n",
       "340    341  Chinstrap      Dream        43.50000       18.10000   \n",
       "341    342  Chinstrap      Dream        49.60000       18.20000   \n",
       "342    343  Chinstrap      Dream        50.80000       19.00000   \n",
       "343    344  Chinstrap      Dream        50.20000       18.70000   \n",
       "\n",
       "     flipper_length_mm  body_mass_g     sex  year    weight  \n",
       "0           181.000000  3750.000000    male  2007  3.750000  \n",
       "1           186.000000  3800.000000  female  2007  3.800000  \n",
       "2           195.000000  3250.000000  female  2007  3.250000  \n",
       "3           200.915205  4201.754386    male  2007  4.201754  \n",
       "4           193.000000  3450.000000  female  2007  3.450000  \n",
       "..                 ...          ...     ...   ...       ...  \n",
       "339         207.000000  4000.000000    male  2009  4.000000  \n",
       "340         202.000000  3400.000000  female  2009  3.400000  \n",
       "341         193.000000  3775.000000    male  2009  3.775000  \n",
       "342         210.000000  4100.000000    male  2009  4.100000  \n",
       "343         198.000000  3775.000000  female  2009  3.775000  \n",
       "\n",
       "[344 rows x 10 columns]"
      ]
     },
     "execution_count": 28,
     "metadata": {},
     "output_type": "execute_result"
    }
   ],
   "source": [
    "birds"
   ]
  },
  {
   "cell_type": "markdown",
   "id": "6c1cf6bf-9f91-4d63-a10c-688f9a898c0a",
   "metadata": {},
   "source": [
    "<h1> Change Data Type</h1>"
   ]
  },
  {
   "cell_type": "code",
   "execution_count": 29,
   "id": "7d3a54f5-00df-42de-9361-368b36463e70",
   "metadata": {},
   "outputs": [
    {
     "name": "stdout",
     "output_type": "stream",
     "text": [
      "<class 'pandas.core.frame.DataFrame'>\n",
      "RangeIndex: 344 entries, 0 to 343\n",
      "Data columns (total 10 columns):\n",
      " #   Column             Non-Null Count  Dtype  \n",
      "---  ------             --------------  -----  \n",
      " 0   rowid              344 non-null    int64  \n",
      " 1   species            344 non-null    object \n",
      " 2   island             344 non-null    object \n",
      " 3   bill_length_mm     344 non-null    float64\n",
      " 4   bill_depth_mm      344 non-null    float64\n",
      " 5   flipper_length_mm  344 non-null    float64\n",
      " 6   body_mass_g        344 non-null    float64\n",
      " 7   sex                344 non-null    object \n",
      " 8   year               344 non-null    int64  \n",
      " 9   weight             344 non-null    float64\n",
      "dtypes: float64(5), int64(2), object(3)\n",
      "memory usage: 27.0+ KB\n"
     ]
    }
   ],
   "source": [
    "birds.info()"
   ]
  },
  {
   "cell_type": "code",
   "execution_count": 30,
   "id": "81dd38dc-1f96-4117-bf76-8a3d8f4d558b",
   "metadata": {},
   "outputs": [],
   "source": [
    "birds['sex'] = birds['sex'].astype('category')"
   ]
  },
  {
   "cell_type": "code",
   "execution_count": 31,
   "id": "ccb0d4ab-342f-4107-8fd6-7d340ddd0068",
   "metadata": {},
   "outputs": [],
   "source": [
    "birds['year'] = birds['year'].astype('category')"
   ]
  },
  {
   "cell_type": "code",
   "execution_count": 32,
   "id": "49055c75-3730-4734-afb9-5aed16870f7c",
   "metadata": {},
   "outputs": [],
   "source": [
    "birds['species'] = birds['species'].astype('category')"
   ]
  },
  {
   "cell_type": "code",
   "execution_count": 33,
   "id": "8c0bfda8-d28b-40f9-bb9a-8ad1160f1652",
   "metadata": {},
   "outputs": [],
   "source": [
    "birds['island'] = birds['island'].astype('category')"
   ]
  },
  {
   "cell_type": "code",
   "execution_count": 34,
   "id": "9336a9c7-c755-45c4-a659-8a7f7ea9b206",
   "metadata": {},
   "outputs": [],
   "source": [
    "birds['rowid'] = birds['rowid'].astype('category')"
   ]
  },
  {
   "cell_type": "code",
   "execution_count": 35,
   "id": "1c76e582-fbda-4114-b723-2bfa205ee4bb",
   "metadata": {},
   "outputs": [
    {
     "name": "stdout",
     "output_type": "stream",
     "text": [
      "<class 'pandas.core.frame.DataFrame'>\n",
      "RangeIndex: 344 entries, 0 to 343\n",
      "Data columns (total 10 columns):\n",
      " #   Column             Non-Null Count  Dtype   \n",
      "---  ------             --------------  -----   \n",
      " 0   rowid              344 non-null    category\n",
      " 1   species            344 non-null    category\n",
      " 2   island             344 non-null    category\n",
      " 3   bill_length_mm     344 non-null    float64 \n",
      " 4   bill_depth_mm      344 non-null    float64 \n",
      " 5   flipper_length_mm  344 non-null    float64 \n",
      " 6   body_mass_g        344 non-null    float64 \n",
      " 7   sex                344 non-null    category\n",
      " 8   year               344 non-null    category\n",
      " 9   weight             344 non-null    float64 \n",
      "dtypes: category(5), float64(5)\n",
      "memory usage: 26.9 KB\n"
     ]
    }
   ],
   "source": [
    "birds.info()"
   ]
  },
  {
   "cell_type": "code",
   "execution_count": 36,
   "id": "af9f417d-1e18-4b1a-b9bf-8cd3b6a922f9",
   "metadata": {},
   "outputs": [
    {
     "data": {
      "text/html": [
       "<div>\n",
       "<style scoped>\n",
       "    .dataframe tbody tr th:only-of-type {\n",
       "        vertical-align: middle;\n",
       "    }\n",
       "\n",
       "    .dataframe tbody tr th {\n",
       "        vertical-align: top;\n",
       "    }\n",
       "\n",
       "    .dataframe thead th {\n",
       "        text-align: right;\n",
       "    }\n",
       "</style>\n",
       "<table border=\"1\" class=\"dataframe\">\n",
       "  <thead>\n",
       "    <tr style=\"text-align: right;\">\n",
       "      <th></th>\n",
       "      <th>rowid</th>\n",
       "      <th>species</th>\n",
       "      <th>island</th>\n",
       "      <th>bill_length_mm</th>\n",
       "      <th>bill_depth_mm</th>\n",
       "      <th>flipper_length_mm</th>\n",
       "      <th>body_mass_g</th>\n",
       "      <th>sex</th>\n",
       "      <th>year</th>\n",
       "      <th>weight</th>\n",
       "    </tr>\n",
       "  </thead>\n",
       "  <tbody>\n",
       "    <tr>\n",
       "      <th>0</th>\n",
       "      <td>1</td>\n",
       "      <td>Adelie</td>\n",
       "      <td>Torgersen</td>\n",
       "      <td>39.10000</td>\n",
       "      <td>18.70000</td>\n",
       "      <td>181.000000</td>\n",
       "      <td>3750.000000</td>\n",
       "      <td>male</td>\n",
       "      <td>2007</td>\n",
       "      <td>3.750000</td>\n",
       "    </tr>\n",
       "    <tr>\n",
       "      <th>1</th>\n",
       "      <td>2</td>\n",
       "      <td>Adelie</td>\n",
       "      <td>Torgersen</td>\n",
       "      <td>39.50000</td>\n",
       "      <td>17.40000</td>\n",
       "      <td>186.000000</td>\n",
       "      <td>3800.000000</td>\n",
       "      <td>female</td>\n",
       "      <td>2007</td>\n",
       "      <td>3.800000</td>\n",
       "    </tr>\n",
       "    <tr>\n",
       "      <th>2</th>\n",
       "      <td>3</td>\n",
       "      <td>Adelie</td>\n",
       "      <td>Torgersen</td>\n",
       "      <td>40.30000</td>\n",
       "      <td>18.00000</td>\n",
       "      <td>195.000000</td>\n",
       "      <td>3250.000000</td>\n",
       "      <td>female</td>\n",
       "      <td>2007</td>\n",
       "      <td>3.250000</td>\n",
       "    </tr>\n",
       "    <tr>\n",
       "      <th>3</th>\n",
       "      <td>4</td>\n",
       "      <td>Adelie</td>\n",
       "      <td>Torgersen</td>\n",
       "      <td>43.92193</td>\n",
       "      <td>17.15117</td>\n",
       "      <td>200.915205</td>\n",
       "      <td>4201.754386</td>\n",
       "      <td>male</td>\n",
       "      <td>2007</td>\n",
       "      <td>4.201754</td>\n",
       "    </tr>\n",
       "    <tr>\n",
       "      <th>4</th>\n",
       "      <td>5</td>\n",
       "      <td>Adelie</td>\n",
       "      <td>Torgersen</td>\n",
       "      <td>36.70000</td>\n",
       "      <td>19.30000</td>\n",
       "      <td>193.000000</td>\n",
       "      <td>3450.000000</td>\n",
       "      <td>female</td>\n",
       "      <td>2007</td>\n",
       "      <td>3.450000</td>\n",
       "    </tr>\n",
       "    <tr>\n",
       "      <th>5</th>\n",
       "      <td>6</td>\n",
       "      <td>Adelie</td>\n",
       "      <td>Torgersen</td>\n",
       "      <td>39.30000</td>\n",
       "      <td>20.60000</td>\n",
       "      <td>190.000000</td>\n",
       "      <td>3650.000000</td>\n",
       "      <td>male</td>\n",
       "      <td>2007</td>\n",
       "      <td>3.650000</td>\n",
       "    </tr>\n",
       "    <tr>\n",
       "      <th>6</th>\n",
       "      <td>7</td>\n",
       "      <td>Adelie</td>\n",
       "      <td>Torgersen</td>\n",
       "      <td>38.90000</td>\n",
       "      <td>17.80000</td>\n",
       "      <td>181.000000</td>\n",
       "      <td>3625.000000</td>\n",
       "      <td>female</td>\n",
       "      <td>2007</td>\n",
       "      <td>3.625000</td>\n",
       "    </tr>\n",
       "    <tr>\n",
       "      <th>7</th>\n",
       "      <td>8</td>\n",
       "      <td>Adelie</td>\n",
       "      <td>Torgersen</td>\n",
       "      <td>39.20000</td>\n",
       "      <td>19.60000</td>\n",
       "      <td>195.000000</td>\n",
       "      <td>4675.000000</td>\n",
       "      <td>male</td>\n",
       "      <td>2007</td>\n",
       "      <td>4.675000</td>\n",
       "    </tr>\n",
       "    <tr>\n",
       "      <th>8</th>\n",
       "      <td>9</td>\n",
       "      <td>Adelie</td>\n",
       "      <td>Torgersen</td>\n",
       "      <td>34.10000</td>\n",
       "      <td>18.10000</td>\n",
       "      <td>193.000000</td>\n",
       "      <td>3475.000000</td>\n",
       "      <td>male</td>\n",
       "      <td>2007</td>\n",
       "      <td>3.475000</td>\n",
       "    </tr>\n",
       "    <tr>\n",
       "      <th>9</th>\n",
       "      <td>10</td>\n",
       "      <td>Adelie</td>\n",
       "      <td>Torgersen</td>\n",
       "      <td>42.00000</td>\n",
       "      <td>20.20000</td>\n",
       "      <td>190.000000</td>\n",
       "      <td>4250.000000</td>\n",
       "      <td>male</td>\n",
       "      <td>2007</td>\n",
       "      <td>4.250000</td>\n",
       "    </tr>\n",
       "  </tbody>\n",
       "</table>\n",
       "</div>"
      ],
      "text/plain": [
       "  rowid species     island  bill_length_mm  bill_depth_mm  flipper_length_mm  \\\n",
       "0     1  Adelie  Torgersen        39.10000       18.70000         181.000000   \n",
       "1     2  Adelie  Torgersen        39.50000       17.40000         186.000000   \n",
       "2     3  Adelie  Torgersen        40.30000       18.00000         195.000000   \n",
       "3     4  Adelie  Torgersen        43.92193       17.15117         200.915205   \n",
       "4     5  Adelie  Torgersen        36.70000       19.30000         193.000000   \n",
       "5     6  Adelie  Torgersen        39.30000       20.60000         190.000000   \n",
       "6     7  Adelie  Torgersen        38.90000       17.80000         181.000000   \n",
       "7     8  Adelie  Torgersen        39.20000       19.60000         195.000000   \n",
       "8     9  Adelie  Torgersen        34.10000       18.10000         193.000000   \n",
       "9    10  Adelie  Torgersen        42.00000       20.20000         190.000000   \n",
       "\n",
       "   body_mass_g     sex  year    weight  \n",
       "0  3750.000000    male  2007  3.750000  \n",
       "1  3800.000000  female  2007  3.800000  \n",
       "2  3250.000000  female  2007  3.250000  \n",
       "3  4201.754386    male  2007  4.201754  \n",
       "4  3450.000000  female  2007  3.450000  \n",
       "5  3650.000000    male  2007  3.650000  \n",
       "6  3625.000000  female  2007  3.625000  \n",
       "7  4675.000000    male  2007  4.675000  \n",
       "8  3475.000000    male  2007  3.475000  \n",
       "9  4250.000000    male  2007  4.250000  "
      ]
     },
     "execution_count": 36,
     "metadata": {},
     "output_type": "execute_result"
    }
   ],
   "source": [
    "birds.head(10)"
   ]
  },
  {
   "cell_type": "code",
   "execution_count": 37,
   "id": "8147b3ac-7640-4d8f-9559-aeb45c0dfc04",
   "metadata": {},
   "outputs": [
    {
     "data": {
      "text/html": [
       "<div>\n",
       "<style scoped>\n",
       "    .dataframe tbody tr th:only-of-type {\n",
       "        vertical-align: middle;\n",
       "    }\n",
       "\n",
       "    .dataframe tbody tr th {\n",
       "        vertical-align: top;\n",
       "    }\n",
       "\n",
       "    .dataframe thead th {\n",
       "        text-align: right;\n",
       "    }\n",
       "</style>\n",
       "<table border=\"1\" class=\"dataframe\">\n",
       "  <thead>\n",
       "    <tr style=\"text-align: right;\">\n",
       "      <th></th>\n",
       "      <th>rowid</th>\n",
       "      <th>species</th>\n",
       "      <th>island</th>\n",
       "      <th>bill_length_mm</th>\n",
       "      <th>bill_depth_mm</th>\n",
       "      <th>flipper_length_mm</th>\n",
       "      <th>body_mass_g</th>\n",
       "      <th>sex</th>\n",
       "      <th>year</th>\n",
       "      <th>weight</th>\n",
       "    </tr>\n",
       "  </thead>\n",
       "  <tbody>\n",
       "    <tr>\n",
       "      <th>339</th>\n",
       "      <td>340</td>\n",
       "      <td>Chinstrap</td>\n",
       "      <td>Dream</td>\n",
       "      <td>55.8</td>\n",
       "      <td>19.8</td>\n",
       "      <td>207.0</td>\n",
       "      <td>4000.0</td>\n",
       "      <td>male</td>\n",
       "      <td>2009</td>\n",
       "      <td>4.000</td>\n",
       "    </tr>\n",
       "    <tr>\n",
       "      <th>340</th>\n",
       "      <td>341</td>\n",
       "      <td>Chinstrap</td>\n",
       "      <td>Dream</td>\n",
       "      <td>43.5</td>\n",
       "      <td>18.1</td>\n",
       "      <td>202.0</td>\n",
       "      <td>3400.0</td>\n",
       "      <td>female</td>\n",
       "      <td>2009</td>\n",
       "      <td>3.400</td>\n",
       "    </tr>\n",
       "    <tr>\n",
       "      <th>341</th>\n",
       "      <td>342</td>\n",
       "      <td>Chinstrap</td>\n",
       "      <td>Dream</td>\n",
       "      <td>49.6</td>\n",
       "      <td>18.2</td>\n",
       "      <td>193.0</td>\n",
       "      <td>3775.0</td>\n",
       "      <td>male</td>\n",
       "      <td>2009</td>\n",
       "      <td>3.775</td>\n",
       "    </tr>\n",
       "    <tr>\n",
       "      <th>342</th>\n",
       "      <td>343</td>\n",
       "      <td>Chinstrap</td>\n",
       "      <td>Dream</td>\n",
       "      <td>50.8</td>\n",
       "      <td>19.0</td>\n",
       "      <td>210.0</td>\n",
       "      <td>4100.0</td>\n",
       "      <td>male</td>\n",
       "      <td>2009</td>\n",
       "      <td>4.100</td>\n",
       "    </tr>\n",
       "    <tr>\n",
       "      <th>343</th>\n",
       "      <td>344</td>\n",
       "      <td>Chinstrap</td>\n",
       "      <td>Dream</td>\n",
       "      <td>50.2</td>\n",
       "      <td>18.7</td>\n",
       "      <td>198.0</td>\n",
       "      <td>3775.0</td>\n",
       "      <td>female</td>\n",
       "      <td>2009</td>\n",
       "      <td>3.775</td>\n",
       "    </tr>\n",
       "  </tbody>\n",
       "</table>\n",
       "</div>"
      ],
      "text/plain": [
       "    rowid    species island  bill_length_mm  bill_depth_mm  flipper_length_mm  \\\n",
       "339   340  Chinstrap  Dream            55.8           19.8              207.0   \n",
       "340   341  Chinstrap  Dream            43.5           18.1              202.0   \n",
       "341   342  Chinstrap  Dream            49.6           18.2              193.0   \n",
       "342   343  Chinstrap  Dream            50.8           19.0              210.0   \n",
       "343   344  Chinstrap  Dream            50.2           18.7              198.0   \n",
       "\n",
       "     body_mass_g     sex  year  weight  \n",
       "339       4000.0    male  2009   4.000  \n",
       "340       3400.0  female  2009   3.400  \n",
       "341       3775.0    male  2009   3.775  \n",
       "342       4100.0    male  2009   4.100  \n",
       "343       3775.0  female  2009   3.775  "
      ]
     },
     "execution_count": 37,
     "metadata": {},
     "output_type": "execute_result"
    }
   ],
   "source": [
    "birds.tail(5)"
   ]
  },
  {
   "cell_type": "code",
   "execution_count": 38,
   "id": "065fbef8-1cc9-450d-b79a-1472e8500f0a",
   "metadata": {},
   "outputs": [
    {
     "data": {
      "text/plain": [
       "0      False\n",
       "1      False\n",
       "2      False\n",
       "3      False\n",
       "4      False\n",
       "       ...  \n",
       "339     True\n",
       "340     True\n",
       "341     True\n",
       "342     True\n",
       "343     True\n",
       "Name: species, Length: 344, dtype: bool"
      ]
     },
     "execution_count": 38,
     "metadata": {},
     "output_type": "execute_result"
    }
   ],
   "source": [
    "birds['species'] == \"Chinstrap\""
   ]
  },
  {
   "cell_type": "code",
   "execution_count": 39,
   "id": "70eff1bd-ea2f-4b7f-aca0-93f5d71bbe91",
   "metadata": {},
   "outputs": [
    {
     "data": {
      "text/plain": [
       "rowid                68\n",
       "species              68\n",
       "island               68\n",
       "bill_length_mm       68\n",
       "bill_depth_mm        68\n",
       "flipper_length_mm    68\n",
       "body_mass_g          68\n",
       "sex                  68\n",
       "year                 68\n",
       "weight               68\n",
       "dtype: int64"
      ]
     },
     "execution_count": 39,
     "metadata": {},
     "output_type": "execute_result"
    }
   ],
   "source": [
    "birds[birds['species'] == \"Chinstrap\"].count()"
   ]
  },
  {
   "cell_type": "code",
   "execution_count": 40,
   "id": "0d5f4e0d-901b-47b8-aca5-b9cb9c412cd4",
   "metadata": {},
   "outputs": [
    {
     "data": {
      "text/plain": [
       "rowid                152\n",
       "species              152\n",
       "island               152\n",
       "bill_length_mm       152\n",
       "bill_depth_mm        152\n",
       "flipper_length_mm    152\n",
       "body_mass_g          152\n",
       "sex                  152\n",
       "year                 152\n",
       "weight               152\n",
       "dtype: int64"
      ]
     },
     "execution_count": 40,
     "metadata": {},
     "output_type": "execute_result"
    }
   ],
   "source": [
    "birds[birds['species'] == \"Adelie\"].count()"
   ]
  },
  {
   "cell_type": "code",
   "execution_count": 41,
   "id": "ef67e8d8-27da-4c1b-aa1d-a76cd5247b85",
   "metadata": {},
   "outputs": [
    {
     "data": {
      "text/plain": [
       "rowid                124\n",
       "species              124\n",
       "island               124\n",
       "bill_length_mm       124\n",
       "bill_depth_mm        124\n",
       "flipper_length_mm    124\n",
       "body_mass_g          124\n",
       "sex                  124\n",
       "year                 124\n",
       "weight               124\n",
       "dtype: int64"
      ]
     },
     "execution_count": 41,
     "metadata": {},
     "output_type": "execute_result"
    }
   ],
   "source": [
    "birds[birds['species'] == \"Gentoo\"].count()"
   ]
  },
  {
   "cell_type": "markdown",
   "id": "e1b7f414-4d4c-40eb-ab2e-6c46d9445b72",
   "metadata": {},
   "source": [
    "<h1>HOW MANY GENTOO SPECIES HAVE WEIGHT MORE THAN 3KG </h1>"
   ]
  },
  {
   "cell_type": "code",
   "execution_count": 42,
   "id": "522d6d5c-98be-41f7-b475-873b26400d63",
   "metadata": {},
   "outputs": [
    {
     "data": {
      "text/plain": [
       "0      False\n",
       "1      False\n",
       "2      False\n",
       "3      False\n",
       "4      False\n",
       "       ...  \n",
       "339    False\n",
       "340    False\n",
       "341    False\n",
       "342    False\n",
       "343    False\n",
       "Name: species, Length: 344, dtype: bool"
      ]
     },
     "execution_count": 42,
     "metadata": {},
     "output_type": "execute_result"
    }
   ],
   "source": [
    "birds['species'] == \"Gentoo\""
   ]
  },
  {
   "cell_type": "code",
   "execution_count": 43,
   "id": "7462db24-7d99-44d7-a96c-ab818b1dc525",
   "metadata": {},
   "outputs": [
    {
     "data": {
      "text/plain": [
       "0      True\n",
       "1      True\n",
       "2      True\n",
       "3      True\n",
       "4      True\n",
       "       ... \n",
       "339    True\n",
       "340    True\n",
       "341    True\n",
       "342    True\n",
       "343    True\n",
       "Name: weight, Length: 344, dtype: bool"
      ]
     },
     "execution_count": 43,
     "metadata": {},
     "output_type": "execute_result"
    }
   ],
   "source": [
    "birds['weight'] > 3"
   ]
  },
  {
   "cell_type": "markdown",
   "id": "ea471149-18e8-4992-864c-652fddf4b302",
   "metadata": {},
   "source": [
    "<h1> DOES GENTOO LIVE ON ONE ISLAND? </h1>"
   ]
  },
  {
   "cell_type": "code",
   "execution_count": 44,
   "id": "ed6a5b89-e11a-4821-8508-c25bb3dadc44",
   "metadata": {},
   "outputs": [
    {
     "data": {
      "text/html": [
       "<div>\n",
       "<style scoped>\n",
       "    .dataframe tbody tr th:only-of-type {\n",
       "        vertical-align: middle;\n",
       "    }\n",
       "\n",
       "    .dataframe tbody tr th {\n",
       "        vertical-align: top;\n",
       "    }\n",
       "\n",
       "    .dataframe thead th {\n",
       "        text-align: right;\n",
       "    }\n",
       "</style>\n",
       "<table border=\"1\" class=\"dataframe\">\n",
       "  <thead>\n",
       "    <tr style=\"text-align: right;\">\n",
       "      <th></th>\n",
       "      <th>rowid</th>\n",
       "      <th>species</th>\n",
       "      <th>island</th>\n",
       "      <th>bill_length_mm</th>\n",
       "      <th>bill_depth_mm</th>\n",
       "      <th>flipper_length_mm</th>\n",
       "      <th>body_mass_g</th>\n",
       "      <th>sex</th>\n",
       "      <th>year</th>\n",
       "      <th>weight</th>\n",
       "    </tr>\n",
       "  </thead>\n",
       "  <tbody>\n",
       "    <tr>\n",
       "      <th>0</th>\n",
       "      <td>1</td>\n",
       "      <td>Adelie</td>\n",
       "      <td>Torgersen</td>\n",
       "      <td>39.10000</td>\n",
       "      <td>18.70000</td>\n",
       "      <td>181.000000</td>\n",
       "      <td>3750.000000</td>\n",
       "      <td>male</td>\n",
       "      <td>2007</td>\n",
       "      <td>3.750000</td>\n",
       "    </tr>\n",
       "    <tr>\n",
       "      <th>1</th>\n",
       "      <td>2</td>\n",
       "      <td>Adelie</td>\n",
       "      <td>Torgersen</td>\n",
       "      <td>39.50000</td>\n",
       "      <td>17.40000</td>\n",
       "      <td>186.000000</td>\n",
       "      <td>3800.000000</td>\n",
       "      <td>female</td>\n",
       "      <td>2007</td>\n",
       "      <td>3.800000</td>\n",
       "    </tr>\n",
       "    <tr>\n",
       "      <th>2</th>\n",
       "      <td>3</td>\n",
       "      <td>Adelie</td>\n",
       "      <td>Torgersen</td>\n",
       "      <td>40.30000</td>\n",
       "      <td>18.00000</td>\n",
       "      <td>195.000000</td>\n",
       "      <td>3250.000000</td>\n",
       "      <td>female</td>\n",
       "      <td>2007</td>\n",
       "      <td>3.250000</td>\n",
       "    </tr>\n",
       "    <tr>\n",
       "      <th>3</th>\n",
       "      <td>4</td>\n",
       "      <td>Adelie</td>\n",
       "      <td>Torgersen</td>\n",
       "      <td>43.92193</td>\n",
       "      <td>17.15117</td>\n",
       "      <td>200.915205</td>\n",
       "      <td>4201.754386</td>\n",
       "      <td>male</td>\n",
       "      <td>2007</td>\n",
       "      <td>4.201754</td>\n",
       "    </tr>\n",
       "    <tr>\n",
       "      <th>4</th>\n",
       "      <td>5</td>\n",
       "      <td>Adelie</td>\n",
       "      <td>Torgersen</td>\n",
       "      <td>36.70000</td>\n",
       "      <td>19.30000</td>\n",
       "      <td>193.000000</td>\n",
       "      <td>3450.000000</td>\n",
       "      <td>female</td>\n",
       "      <td>2007</td>\n",
       "      <td>3.450000</td>\n",
       "    </tr>\n",
       "    <tr>\n",
       "      <th>...</th>\n",
       "      <td>...</td>\n",
       "      <td>...</td>\n",
       "      <td>...</td>\n",
       "      <td>...</td>\n",
       "      <td>...</td>\n",
       "      <td>...</td>\n",
       "      <td>...</td>\n",
       "      <td>...</td>\n",
       "      <td>...</td>\n",
       "      <td>...</td>\n",
       "    </tr>\n",
       "    <tr>\n",
       "      <th>339</th>\n",
       "      <td>340</td>\n",
       "      <td>Chinstrap</td>\n",
       "      <td>Dream</td>\n",
       "      <td>55.80000</td>\n",
       "      <td>19.80000</td>\n",
       "      <td>207.000000</td>\n",
       "      <td>4000.000000</td>\n",
       "      <td>male</td>\n",
       "      <td>2009</td>\n",
       "      <td>4.000000</td>\n",
       "    </tr>\n",
       "    <tr>\n",
       "      <th>340</th>\n",
       "      <td>341</td>\n",
       "      <td>Chinstrap</td>\n",
       "      <td>Dream</td>\n",
       "      <td>43.50000</td>\n",
       "      <td>18.10000</td>\n",
       "      <td>202.000000</td>\n",
       "      <td>3400.000000</td>\n",
       "      <td>female</td>\n",
       "      <td>2009</td>\n",
       "      <td>3.400000</td>\n",
       "    </tr>\n",
       "    <tr>\n",
       "      <th>341</th>\n",
       "      <td>342</td>\n",
       "      <td>Chinstrap</td>\n",
       "      <td>Dream</td>\n",
       "      <td>49.60000</td>\n",
       "      <td>18.20000</td>\n",
       "      <td>193.000000</td>\n",
       "      <td>3775.000000</td>\n",
       "      <td>male</td>\n",
       "      <td>2009</td>\n",
       "      <td>3.775000</td>\n",
       "    </tr>\n",
       "    <tr>\n",
       "      <th>342</th>\n",
       "      <td>343</td>\n",
       "      <td>Chinstrap</td>\n",
       "      <td>Dream</td>\n",
       "      <td>50.80000</td>\n",
       "      <td>19.00000</td>\n",
       "      <td>210.000000</td>\n",
       "      <td>4100.000000</td>\n",
       "      <td>male</td>\n",
       "      <td>2009</td>\n",
       "      <td>4.100000</td>\n",
       "    </tr>\n",
       "    <tr>\n",
       "      <th>343</th>\n",
       "      <td>344</td>\n",
       "      <td>Chinstrap</td>\n",
       "      <td>Dream</td>\n",
       "      <td>50.20000</td>\n",
       "      <td>18.70000</td>\n",
       "      <td>198.000000</td>\n",
       "      <td>3775.000000</td>\n",
       "      <td>female</td>\n",
       "      <td>2009</td>\n",
       "      <td>3.775000</td>\n",
       "    </tr>\n",
       "  </tbody>\n",
       "</table>\n",
       "<p>344 rows × 10 columns</p>\n",
       "</div>"
      ],
      "text/plain": [
       "    rowid    species     island  bill_length_mm  bill_depth_mm  \\\n",
       "0       1     Adelie  Torgersen        39.10000       18.70000   \n",
       "1       2     Adelie  Torgersen        39.50000       17.40000   \n",
       "2       3     Adelie  Torgersen        40.30000       18.00000   \n",
       "3       4     Adelie  Torgersen        43.92193       17.15117   \n",
       "4       5     Adelie  Torgersen        36.70000       19.30000   \n",
       "..    ...        ...        ...             ...            ...   \n",
       "339   340  Chinstrap      Dream        55.80000       19.80000   \n",
       "340   341  Chinstrap      Dream        43.50000       18.10000   \n",
       "341   342  Chinstrap      Dream        49.60000       18.20000   \n",
       "342   343  Chinstrap      Dream        50.80000       19.00000   \n",
       "343   344  Chinstrap      Dream        50.20000       18.70000   \n",
       "\n",
       "     flipper_length_mm  body_mass_g     sex  year    weight  \n",
       "0           181.000000  3750.000000    male  2007  3.750000  \n",
       "1           186.000000  3800.000000  female  2007  3.800000  \n",
       "2           195.000000  3250.000000  female  2007  3.250000  \n",
       "3           200.915205  4201.754386    male  2007  4.201754  \n",
       "4           193.000000  3450.000000  female  2007  3.450000  \n",
       "..                 ...          ...     ...   ...       ...  \n",
       "339         207.000000  4000.000000    male  2009  4.000000  \n",
       "340         202.000000  3400.000000  female  2009  3.400000  \n",
       "341         193.000000  3775.000000    male  2009  3.775000  \n",
       "342         210.000000  4100.000000    male  2009  4.100000  \n",
       "343         198.000000  3775.000000  female  2009  3.775000  \n",
       "\n",
       "[344 rows x 10 columns]"
      ]
     },
     "execution_count": 44,
     "metadata": {},
     "output_type": "execute_result"
    }
   ],
   "source": [
    "birds"
   ]
  },
  {
   "cell_type": "code",
   "execution_count": 45,
   "id": "9e753ce1-2665-41a4-a115-3629fee12ee3",
   "metadata": {},
   "outputs": [
    {
     "data": {
      "text/plain": [
       "0      False\n",
       "1      False\n",
       "2      False\n",
       "3      False\n",
       "4      False\n",
       "       ...  \n",
       "339    False\n",
       "340    False\n",
       "341    False\n",
       "342    False\n",
       "343    False\n",
       "Name: species, Length: 344, dtype: bool"
      ]
     },
     "execution_count": 45,
     "metadata": {},
     "output_type": "execute_result"
    }
   ],
   "source": [
    "birds['species'] == \"Gentoo\""
   ]
  },
  {
   "cell_type": "code",
   "execution_count": 46,
   "id": "b4a4d575-efcc-4544-8045-ead891dd12b5",
   "metadata": {},
   "outputs": [
    {
     "data": {
      "text/plain": [
       "island\n",
       "Biscoe       168\n",
       "Dream        124\n",
       "Torgersen     52\n",
       "Name: count, dtype: int64"
      ]
     },
     "execution_count": 46,
     "metadata": {},
     "output_type": "execute_result"
    }
   ],
   "source": [
    "birds['island'].value_counts()"
   ]
  },
  {
   "cell_type": "code",
   "execution_count": 47,
   "id": "efc7862a-0671-4072-8a82-ebdb9d3d4e56",
   "metadata": {},
   "outputs": [
    {
     "data": {
      "text/plain": [
       "0      False\n",
       "1      False\n",
       "2      False\n",
       "3      False\n",
       "4      False\n",
       "       ...  \n",
       "339    False\n",
       "340    False\n",
       "341    False\n",
       "342    False\n",
       "343    False\n",
       "Name: island, Length: 344, dtype: bool"
      ]
     },
     "execution_count": 47,
     "metadata": {},
     "output_type": "execute_result"
    }
   ],
   "source": [
    "birds['island'] == \"Biscoe\""
   ]
  },
  {
   "cell_type": "code",
   "execution_count": 48,
   "id": "bf048762-69c8-4ea8-84b6-110e7a41befc",
   "metadata": {},
   "outputs": [
    {
     "data": {
      "text/plain": [
       "0      False\n",
       "1      False\n",
       "2      False\n",
       "3      False\n",
       "4      False\n",
       "       ...  \n",
       "339    False\n",
       "340    False\n",
       "341    False\n",
       "342    False\n",
       "343    False\n",
       "Length: 344, dtype: bool"
      ]
     },
     "execution_count": 48,
     "metadata": {},
     "output_type": "execute_result"
    }
   ],
   "source": [
    "(birds['species'] == \"Gentoo\") & (birds['island'] == \"Biscoe\")"
   ]
  },
  {
   "cell_type": "code",
   "execution_count": 49,
   "id": "ec6d7f90-acbc-4728-bc9c-babbdb25e7f0",
   "metadata": {},
   "outputs": [
    {
     "data": {
      "text/html": [
       "<div>\n",
       "<style scoped>\n",
       "    .dataframe tbody tr th:only-of-type {\n",
       "        vertical-align: middle;\n",
       "    }\n",
       "\n",
       "    .dataframe tbody tr th {\n",
       "        vertical-align: top;\n",
       "    }\n",
       "\n",
       "    .dataframe thead th {\n",
       "        text-align: right;\n",
       "    }\n",
       "</style>\n",
       "<table border=\"1\" class=\"dataframe\">\n",
       "  <thead>\n",
       "    <tr style=\"text-align: right;\">\n",
       "      <th></th>\n",
       "      <th>rowid</th>\n",
       "      <th>species</th>\n",
       "      <th>island</th>\n",
       "      <th>bill_length_mm</th>\n",
       "      <th>bill_depth_mm</th>\n",
       "      <th>flipper_length_mm</th>\n",
       "      <th>body_mass_g</th>\n",
       "      <th>sex</th>\n",
       "      <th>year</th>\n",
       "      <th>weight</th>\n",
       "    </tr>\n",
       "  </thead>\n",
       "  <tbody>\n",
       "    <tr>\n",
       "      <th>152</th>\n",
       "      <td>153</td>\n",
       "      <td>Gentoo</td>\n",
       "      <td>Biscoe</td>\n",
       "      <td>46.10000</td>\n",
       "      <td>13.20000</td>\n",
       "      <td>211.000000</td>\n",
       "      <td>4500.000000</td>\n",
       "      <td>female</td>\n",
       "      <td>2007</td>\n",
       "      <td>4.500000</td>\n",
       "    </tr>\n",
       "    <tr>\n",
       "      <th>153</th>\n",
       "      <td>154</td>\n",
       "      <td>Gentoo</td>\n",
       "      <td>Biscoe</td>\n",
       "      <td>50.00000</td>\n",
       "      <td>16.30000</td>\n",
       "      <td>230.000000</td>\n",
       "      <td>5700.000000</td>\n",
       "      <td>male</td>\n",
       "      <td>2007</td>\n",
       "      <td>5.700000</td>\n",
       "    </tr>\n",
       "    <tr>\n",
       "      <th>154</th>\n",
       "      <td>155</td>\n",
       "      <td>Gentoo</td>\n",
       "      <td>Biscoe</td>\n",
       "      <td>48.70000</td>\n",
       "      <td>14.10000</td>\n",
       "      <td>210.000000</td>\n",
       "      <td>4450.000000</td>\n",
       "      <td>female</td>\n",
       "      <td>2007</td>\n",
       "      <td>4.450000</td>\n",
       "    </tr>\n",
       "    <tr>\n",
       "      <th>155</th>\n",
       "      <td>156</td>\n",
       "      <td>Gentoo</td>\n",
       "      <td>Biscoe</td>\n",
       "      <td>50.00000</td>\n",
       "      <td>15.20000</td>\n",
       "      <td>218.000000</td>\n",
       "      <td>5700.000000</td>\n",
       "      <td>male</td>\n",
       "      <td>2007</td>\n",
       "      <td>5.700000</td>\n",
       "    </tr>\n",
       "    <tr>\n",
       "      <th>156</th>\n",
       "      <td>157</td>\n",
       "      <td>Gentoo</td>\n",
       "      <td>Biscoe</td>\n",
       "      <td>47.60000</td>\n",
       "      <td>14.50000</td>\n",
       "      <td>215.000000</td>\n",
       "      <td>5400.000000</td>\n",
       "      <td>male</td>\n",
       "      <td>2007</td>\n",
       "      <td>5.400000</td>\n",
       "    </tr>\n",
       "    <tr>\n",
       "      <th>...</th>\n",
       "      <td>...</td>\n",
       "      <td>...</td>\n",
       "      <td>...</td>\n",
       "      <td>...</td>\n",
       "      <td>...</td>\n",
       "      <td>...</td>\n",
       "      <td>...</td>\n",
       "      <td>...</td>\n",
       "      <td>...</td>\n",
       "      <td>...</td>\n",
       "    </tr>\n",
       "    <tr>\n",
       "      <th>271</th>\n",
       "      <td>272</td>\n",
       "      <td>Gentoo</td>\n",
       "      <td>Biscoe</td>\n",
       "      <td>43.92193</td>\n",
       "      <td>17.15117</td>\n",
       "      <td>200.915205</td>\n",
       "      <td>4201.754386</td>\n",
       "      <td>male</td>\n",
       "      <td>2009</td>\n",
       "      <td>4.201754</td>\n",
       "    </tr>\n",
       "    <tr>\n",
       "      <th>272</th>\n",
       "      <td>273</td>\n",
       "      <td>Gentoo</td>\n",
       "      <td>Biscoe</td>\n",
       "      <td>46.80000</td>\n",
       "      <td>14.30000</td>\n",
       "      <td>215.000000</td>\n",
       "      <td>4850.000000</td>\n",
       "      <td>female</td>\n",
       "      <td>2009</td>\n",
       "      <td>4.850000</td>\n",
       "    </tr>\n",
       "    <tr>\n",
       "      <th>273</th>\n",
       "      <td>274</td>\n",
       "      <td>Gentoo</td>\n",
       "      <td>Biscoe</td>\n",
       "      <td>50.40000</td>\n",
       "      <td>15.70000</td>\n",
       "      <td>222.000000</td>\n",
       "      <td>5750.000000</td>\n",
       "      <td>male</td>\n",
       "      <td>2009</td>\n",
       "      <td>5.750000</td>\n",
       "    </tr>\n",
       "    <tr>\n",
       "      <th>274</th>\n",
       "      <td>275</td>\n",
       "      <td>Gentoo</td>\n",
       "      <td>Biscoe</td>\n",
       "      <td>45.20000</td>\n",
       "      <td>14.80000</td>\n",
       "      <td>212.000000</td>\n",
       "      <td>5200.000000</td>\n",
       "      <td>female</td>\n",
       "      <td>2009</td>\n",
       "      <td>5.200000</td>\n",
       "    </tr>\n",
       "    <tr>\n",
       "      <th>275</th>\n",
       "      <td>276</td>\n",
       "      <td>Gentoo</td>\n",
       "      <td>Biscoe</td>\n",
       "      <td>49.90000</td>\n",
       "      <td>16.10000</td>\n",
       "      <td>213.000000</td>\n",
       "      <td>5400.000000</td>\n",
       "      <td>male</td>\n",
       "      <td>2009</td>\n",
       "      <td>5.400000</td>\n",
       "    </tr>\n",
       "  </tbody>\n",
       "</table>\n",
       "<p>124 rows × 10 columns</p>\n",
       "</div>"
      ],
      "text/plain": [
       "    rowid species  island  bill_length_mm  bill_depth_mm  flipper_length_mm  \\\n",
       "152   153  Gentoo  Biscoe        46.10000       13.20000         211.000000   \n",
       "153   154  Gentoo  Biscoe        50.00000       16.30000         230.000000   \n",
       "154   155  Gentoo  Biscoe        48.70000       14.10000         210.000000   \n",
       "155   156  Gentoo  Biscoe        50.00000       15.20000         218.000000   \n",
       "156   157  Gentoo  Biscoe        47.60000       14.50000         215.000000   \n",
       "..    ...     ...     ...             ...            ...                ...   \n",
       "271   272  Gentoo  Biscoe        43.92193       17.15117         200.915205   \n",
       "272   273  Gentoo  Biscoe        46.80000       14.30000         215.000000   \n",
       "273   274  Gentoo  Biscoe        50.40000       15.70000         222.000000   \n",
       "274   275  Gentoo  Biscoe        45.20000       14.80000         212.000000   \n",
       "275   276  Gentoo  Biscoe        49.90000       16.10000         213.000000   \n",
       "\n",
       "     body_mass_g     sex  year    weight  \n",
       "152  4500.000000  female  2007  4.500000  \n",
       "153  5700.000000    male  2007  5.700000  \n",
       "154  4450.000000  female  2007  4.450000  \n",
       "155  5700.000000    male  2007  5.700000  \n",
       "156  5400.000000    male  2007  5.400000  \n",
       "..           ...     ...   ...       ...  \n",
       "271  4201.754386    male  2009  4.201754  \n",
       "272  4850.000000  female  2009  4.850000  \n",
       "273  5750.000000    male  2009  5.750000  \n",
       "274  5200.000000  female  2009  5.200000  \n",
       "275  5400.000000    male  2009  5.400000  \n",
       "\n",
       "[124 rows x 10 columns]"
      ]
     },
     "execution_count": 49,
     "metadata": {},
     "output_type": "execute_result"
    }
   ],
   "source": [
    "birds[(birds['species'] == \"Gentoo\") & (birds['island'] == \"Biscoe\")]"
   ]
  },
  {
   "cell_type": "code",
   "execution_count": 50,
   "id": "e4bc5faf-3dd1-4dfb-9ae8-4eb0a75ca9a5",
   "metadata": {},
   "outputs": [
    {
     "data": {
      "text/plain": [
       "rowid                61\n",
       "species              61\n",
       "island               61\n",
       "bill_length_mm       61\n",
       "bill_depth_mm        61\n",
       "flipper_length_mm    61\n",
       "body_mass_g          61\n",
       "sex                  61\n",
       "year                 61\n",
       "weight               61\n",
       "dtype: int64"
      ]
     },
     "execution_count": 50,
     "metadata": {},
     "output_type": "execute_result"
    }
   ],
   "source": [
    "birds[(birds['species'] == \"Gentoo\") & (birds['weight'] > 5 )].count()"
   ]
  },
  {
   "cell_type": "markdown",
   "id": "d9cf8ab7-7f6b-48ab-8b5e-29e468e66720",
   "metadata": {},
   "source": [
    "<h1>ACTIVITY 2</h1>"
   ]
  },
  {
   "cell_type": "code",
   "execution_count": 51,
   "id": "58d8b6c4-da66-424e-a562-17507dc2f875",
   "metadata": {},
   "outputs": [
    {
     "data": {
      "text/plain": [
       "species\n",
       "Adelie       152\n",
       "Gentoo       124\n",
       "Chinstrap     68\n",
       "Name: count, dtype: int64"
      ]
     },
     "execution_count": 51,
     "metadata": {},
     "output_type": "execute_result"
    }
   ],
   "source": [
    "birds['species'].value_counts()"
   ]
  },
  {
   "cell_type": "code",
   "execution_count": 52,
   "id": "a381fa02-b832-4803-a45e-82772c2707fe",
   "metadata": {},
   "outputs": [
    {
     "data": {
      "text/plain": [
       "island\n",
       "Biscoe       168\n",
       "Dream        124\n",
       "Torgersen     52\n",
       "Name: count, dtype: int64"
      ]
     },
     "execution_count": 52,
     "metadata": {},
     "output_type": "execute_result"
    }
   ],
   "source": [
    "birds['island'].value_counts()"
   ]
  },
  {
   "cell_type": "markdown",
   "id": "525a35b8-54b2-4f8c-9893-9b906705c8ed",
   "metadata": {},
   "source": [
    "<H1>GENTOO</H1>"
   ]
  },
  {
   "cell_type": "code",
   "execution_count": 53,
   "id": "6b3c43fd-8ff4-4ca1-8ac7-6f48e14b9959",
   "metadata": {},
   "outputs": [
    {
     "data": {
      "text/html": [
       "<div>\n",
       "<style scoped>\n",
       "    .dataframe tbody tr th:only-of-type {\n",
       "        vertical-align: middle;\n",
       "    }\n",
       "\n",
       "    .dataframe tbody tr th {\n",
       "        vertical-align: top;\n",
       "    }\n",
       "\n",
       "    .dataframe thead th {\n",
       "        text-align: right;\n",
       "    }\n",
       "</style>\n",
       "<table border=\"1\" class=\"dataframe\">\n",
       "  <thead>\n",
       "    <tr style=\"text-align: right;\">\n",
       "      <th></th>\n",
       "      <th>rowid</th>\n",
       "      <th>species</th>\n",
       "      <th>island</th>\n",
       "      <th>bill_length_mm</th>\n",
       "      <th>bill_depth_mm</th>\n",
       "      <th>flipper_length_mm</th>\n",
       "      <th>body_mass_g</th>\n",
       "      <th>sex</th>\n",
       "      <th>year</th>\n",
       "      <th>weight</th>\n",
       "    </tr>\n",
       "  </thead>\n",
       "  <tbody>\n",
       "    <tr>\n",
       "      <th>152</th>\n",
       "      <td>153</td>\n",
       "      <td>Gentoo</td>\n",
       "      <td>Biscoe</td>\n",
       "      <td>46.10000</td>\n",
       "      <td>13.20000</td>\n",
       "      <td>211.000000</td>\n",
       "      <td>4500.000000</td>\n",
       "      <td>female</td>\n",
       "      <td>2007</td>\n",
       "      <td>4.500000</td>\n",
       "    </tr>\n",
       "    <tr>\n",
       "      <th>153</th>\n",
       "      <td>154</td>\n",
       "      <td>Gentoo</td>\n",
       "      <td>Biscoe</td>\n",
       "      <td>50.00000</td>\n",
       "      <td>16.30000</td>\n",
       "      <td>230.000000</td>\n",
       "      <td>5700.000000</td>\n",
       "      <td>male</td>\n",
       "      <td>2007</td>\n",
       "      <td>5.700000</td>\n",
       "    </tr>\n",
       "    <tr>\n",
       "      <th>154</th>\n",
       "      <td>155</td>\n",
       "      <td>Gentoo</td>\n",
       "      <td>Biscoe</td>\n",
       "      <td>48.70000</td>\n",
       "      <td>14.10000</td>\n",
       "      <td>210.000000</td>\n",
       "      <td>4450.000000</td>\n",
       "      <td>female</td>\n",
       "      <td>2007</td>\n",
       "      <td>4.450000</td>\n",
       "    </tr>\n",
       "    <tr>\n",
       "      <th>155</th>\n",
       "      <td>156</td>\n",
       "      <td>Gentoo</td>\n",
       "      <td>Biscoe</td>\n",
       "      <td>50.00000</td>\n",
       "      <td>15.20000</td>\n",
       "      <td>218.000000</td>\n",
       "      <td>5700.000000</td>\n",
       "      <td>male</td>\n",
       "      <td>2007</td>\n",
       "      <td>5.700000</td>\n",
       "    </tr>\n",
       "    <tr>\n",
       "      <th>156</th>\n",
       "      <td>157</td>\n",
       "      <td>Gentoo</td>\n",
       "      <td>Biscoe</td>\n",
       "      <td>47.60000</td>\n",
       "      <td>14.50000</td>\n",
       "      <td>215.000000</td>\n",
       "      <td>5400.000000</td>\n",
       "      <td>male</td>\n",
       "      <td>2007</td>\n",
       "      <td>5.400000</td>\n",
       "    </tr>\n",
       "    <tr>\n",
       "      <th>...</th>\n",
       "      <td>...</td>\n",
       "      <td>...</td>\n",
       "      <td>...</td>\n",
       "      <td>...</td>\n",
       "      <td>...</td>\n",
       "      <td>...</td>\n",
       "      <td>...</td>\n",
       "      <td>...</td>\n",
       "      <td>...</td>\n",
       "      <td>...</td>\n",
       "    </tr>\n",
       "    <tr>\n",
       "      <th>271</th>\n",
       "      <td>272</td>\n",
       "      <td>Gentoo</td>\n",
       "      <td>Biscoe</td>\n",
       "      <td>43.92193</td>\n",
       "      <td>17.15117</td>\n",
       "      <td>200.915205</td>\n",
       "      <td>4201.754386</td>\n",
       "      <td>male</td>\n",
       "      <td>2009</td>\n",
       "      <td>4.201754</td>\n",
       "    </tr>\n",
       "    <tr>\n",
       "      <th>272</th>\n",
       "      <td>273</td>\n",
       "      <td>Gentoo</td>\n",
       "      <td>Biscoe</td>\n",
       "      <td>46.80000</td>\n",
       "      <td>14.30000</td>\n",
       "      <td>215.000000</td>\n",
       "      <td>4850.000000</td>\n",
       "      <td>female</td>\n",
       "      <td>2009</td>\n",
       "      <td>4.850000</td>\n",
       "    </tr>\n",
       "    <tr>\n",
       "      <th>273</th>\n",
       "      <td>274</td>\n",
       "      <td>Gentoo</td>\n",
       "      <td>Biscoe</td>\n",
       "      <td>50.40000</td>\n",
       "      <td>15.70000</td>\n",
       "      <td>222.000000</td>\n",
       "      <td>5750.000000</td>\n",
       "      <td>male</td>\n",
       "      <td>2009</td>\n",
       "      <td>5.750000</td>\n",
       "    </tr>\n",
       "    <tr>\n",
       "      <th>274</th>\n",
       "      <td>275</td>\n",
       "      <td>Gentoo</td>\n",
       "      <td>Biscoe</td>\n",
       "      <td>45.20000</td>\n",
       "      <td>14.80000</td>\n",
       "      <td>212.000000</td>\n",
       "      <td>5200.000000</td>\n",
       "      <td>female</td>\n",
       "      <td>2009</td>\n",
       "      <td>5.200000</td>\n",
       "    </tr>\n",
       "    <tr>\n",
       "      <th>275</th>\n",
       "      <td>276</td>\n",
       "      <td>Gentoo</td>\n",
       "      <td>Biscoe</td>\n",
       "      <td>49.90000</td>\n",
       "      <td>16.10000</td>\n",
       "      <td>213.000000</td>\n",
       "      <td>5400.000000</td>\n",
       "      <td>male</td>\n",
       "      <td>2009</td>\n",
       "      <td>5.400000</td>\n",
       "    </tr>\n",
       "  </tbody>\n",
       "</table>\n",
       "<p>124 rows × 10 columns</p>\n",
       "</div>"
      ],
      "text/plain": [
       "    rowid species  island  bill_length_mm  bill_depth_mm  flipper_length_mm  \\\n",
       "152   153  Gentoo  Biscoe        46.10000       13.20000         211.000000   \n",
       "153   154  Gentoo  Biscoe        50.00000       16.30000         230.000000   \n",
       "154   155  Gentoo  Biscoe        48.70000       14.10000         210.000000   \n",
       "155   156  Gentoo  Biscoe        50.00000       15.20000         218.000000   \n",
       "156   157  Gentoo  Biscoe        47.60000       14.50000         215.000000   \n",
       "..    ...     ...     ...             ...            ...                ...   \n",
       "271   272  Gentoo  Biscoe        43.92193       17.15117         200.915205   \n",
       "272   273  Gentoo  Biscoe        46.80000       14.30000         215.000000   \n",
       "273   274  Gentoo  Biscoe        50.40000       15.70000         222.000000   \n",
       "274   275  Gentoo  Biscoe        45.20000       14.80000         212.000000   \n",
       "275   276  Gentoo  Biscoe        49.90000       16.10000         213.000000   \n",
       "\n",
       "     body_mass_g     sex  year    weight  \n",
       "152  4500.000000  female  2007  4.500000  \n",
       "153  5700.000000    male  2007  5.700000  \n",
       "154  4450.000000  female  2007  4.450000  \n",
       "155  5700.000000    male  2007  5.700000  \n",
       "156  5400.000000    male  2007  5.400000  \n",
       "..           ...     ...   ...       ...  \n",
       "271  4201.754386    male  2009  4.201754  \n",
       "272  4850.000000  female  2009  4.850000  \n",
       "273  5750.000000    male  2009  5.750000  \n",
       "274  5200.000000  female  2009  5.200000  \n",
       "275  5400.000000    male  2009  5.400000  \n",
       "\n",
       "[124 rows x 10 columns]"
      ]
     },
     "execution_count": 53,
     "metadata": {},
     "output_type": "execute_result"
    }
   ],
   "source": [
    "gentoobiscoe = birds[(birds['species'] == \"Gentoo\") & (birds['island'] == \"Biscoe\" )]\n",
    "gentoobiscoe"
   ]
  },
  {
   "cell_type": "code",
   "execution_count": 54,
   "id": "761112ff-bdd7-4a3a-b8f0-be82cc255522",
   "metadata": {},
   "outputs": [
    {
     "name": "stdout",
     "output_type": "stream",
     "text": [
      "<class 'pandas.core.frame.DataFrame'>\n",
      "Index: 0 entries\n",
      "Data columns (total 10 columns):\n",
      " #   Column             Non-Null Count  Dtype   \n",
      "---  ------             --------------  -----   \n",
      " 0   rowid              0 non-null      category\n",
      " 1   species            0 non-null      category\n",
      " 2   island             0 non-null      category\n",
      " 3   bill_length_mm     0 non-null      float64 \n",
      " 4   bill_depth_mm      0 non-null      float64 \n",
      " 5   flipper_length_mm  0 non-null      float64 \n",
      " 6   body_mass_g        0 non-null      float64 \n",
      " 7   sex                0 non-null      category\n",
      " 8   year               0 non-null      category\n",
      " 9   weight             0 non-null      float64 \n",
      "dtypes: category(5), float64(5)\n",
      "memory usage: 11.3 KB\n"
     ]
    }
   ],
   "source": [
    "gentoodream = birds[(birds['species'] == \"Gentoo\") & (birds['island'] == \"Dream\" )]\n",
    "gentoodream.info()"
   ]
  },
  {
   "cell_type": "code",
   "execution_count": 55,
   "id": "b78727fe-e7b6-4e69-92c1-18ba09a954b2",
   "metadata": {},
   "outputs": [
    {
     "name": "stdout",
     "output_type": "stream",
     "text": [
      "<class 'pandas.core.frame.DataFrame'>\n",
      "Index: 0 entries\n",
      "Data columns (total 10 columns):\n",
      " #   Column             Non-Null Count  Dtype   \n",
      "---  ------             --------------  -----   \n",
      " 0   rowid              0 non-null      category\n",
      " 1   species            0 non-null      category\n",
      " 2   island             0 non-null      category\n",
      " 3   bill_length_mm     0 non-null      float64 \n",
      " 4   bill_depth_mm      0 non-null      float64 \n",
      " 5   flipper_length_mm  0 non-null      float64 \n",
      " 6   body_mass_g        0 non-null      float64 \n",
      " 7   sex                0 non-null      category\n",
      " 8   year               0 non-null      category\n",
      " 9   weight             0 non-null      float64 \n",
      "dtypes: category(5), float64(5)\n",
      "memory usage: 11.3 KB\n"
     ]
    }
   ],
   "source": [
    "gentootorgersen = birds[(birds['species'] == \"Gentoo\") & (birds['island'] == \"Torgersen\" )]\n",
    "gentootorgersen.info()"
   ]
  },
  {
   "cell_type": "markdown",
   "id": "54e27807-0bfe-48ec-8579-eaab03f182e1",
   "metadata": {},
   "source": [
    "<H3>1. GENTOO LIVE ON ONE ISLAND (BISCOE)</H3>"
   ]
  },
  {
   "cell_type": "markdown",
   "id": "35e86e3e-b627-4e99-9962-14de2ddb52ee",
   "metadata": {},
   "source": [
    "<h1>ADELIE</h1>"
   ]
  },
  {
   "cell_type": "code",
   "execution_count": 56,
   "id": "489a2788-aa4e-4e47-9a18-ad0e71a1b387",
   "metadata": {},
   "outputs": [
    {
     "name": "stdout",
     "output_type": "stream",
     "text": [
      "<class 'pandas.core.frame.DataFrame'>\n",
      "Index: 44 entries, 20 to 115\n",
      "Data columns (total 10 columns):\n",
      " #   Column             Non-Null Count  Dtype   \n",
      "---  ------             --------------  -----   \n",
      " 0   rowid              44 non-null     category\n",
      " 1   species            44 non-null     category\n",
      " 2   island             44 non-null     category\n",
      " 3   bill_length_mm     44 non-null     float64 \n",
      " 4   bill_depth_mm      44 non-null     float64 \n",
      " 5   flipper_length_mm  44 non-null     float64 \n",
      " 6   body_mass_g        44 non-null     float64 \n",
      " 7   sex                44 non-null     category\n",
      " 8   year               44 non-null     category\n",
      " 9   weight             44 non-null     float64 \n",
      "dtypes: category(5), float64(5)\n",
      "memory usage: 13.6 KB\n"
     ]
    }
   ],
   "source": [
    "adeliebiscoe = birds[(birds['species'] == \"Adelie\") & (birds['island'] == \"Biscoe\" )]\n",
    "adeliebiscoe.info()"
   ]
  },
  {
   "cell_type": "code",
   "execution_count": 57,
   "id": "0ca39bfa-4f77-453d-a82a-b7b4f2ed17f0",
   "metadata": {},
   "outputs": [
    {
     "name": "stdout",
     "output_type": "stream",
     "text": [
      "<class 'pandas.core.frame.DataFrame'>\n",
      "Index: 56 entries, 30 to 151\n",
      "Data columns (total 10 columns):\n",
      " #   Column             Non-Null Count  Dtype   \n",
      "---  ------             --------------  -----   \n",
      " 0   rowid              56 non-null     category\n",
      " 1   species            56 non-null     category\n",
      " 2   island             56 non-null     category\n",
      " 3   bill_length_mm     56 non-null     float64 \n",
      " 4   bill_depth_mm      56 non-null     float64 \n",
      " 5   flipper_length_mm  56 non-null     float64 \n",
      " 6   body_mass_g        56 non-null     float64 \n",
      " 7   sex                56 non-null     category\n",
      " 8   year               56 non-null     category\n",
      " 9   weight             56 non-null     float64 \n",
      "dtypes: category(5), float64(5)\n",
      "memory usage: 14.2 KB\n"
     ]
    }
   ],
   "source": [
    "adeliedream = birds[(birds['species'] == \"Adelie\") & (birds['island'] == \"Dream\" )]\n",
    "adeliedream.info()"
   ]
  },
  {
   "cell_type": "code",
   "execution_count": 73,
   "id": "4462f5e6-b707-4b14-8412-269df5817e47",
   "metadata": {},
   "outputs": [
    {
     "name": "stdout",
     "output_type": "stream",
     "text": [
      "<class 'pandas.core.frame.DataFrame'>\n",
      "Index: 52 entries, 0 to 131\n",
      "Data columns (total 10 columns):\n",
      " #   Column             Non-Null Count  Dtype   \n",
      "---  ------             --------------  -----   \n",
      " 0   rowid              52 non-null     category\n",
      " 1   species            52 non-null     category\n",
      " 2   island             52 non-null     category\n",
      " 3   bill_length_mm     52 non-null     float64 \n",
      " 4   bill_depth_mm      52 non-null     float64 \n",
      " 5   flipper_length_mm  52 non-null     float64 \n",
      " 6   body_mass_g        52 non-null     float64 \n",
      " 7   sex                52 non-null     category\n",
      " 8   year               52 non-null     category\n",
      " 9   weight             52 non-null     float64 \n",
      "dtypes: category(5), float64(5)\n",
      "memory usage: 14.0 KB\n"
     ]
    }
   ],
   "source": [
    "adelietorgersen = birds[(birds['species'] == \"Adelie\") & (birds['island'] == \"Torgersen\" )]\n",
    "adelietorgersen.info()"
   ]
  },
  {
   "cell_type": "markdown",
   "id": "c4877e7c-eee2-4033-be93-c9aa5762b9bf",
   "metadata": {},
   "source": [
    "<H3>2. ADELIE LIVE ON ALL 3 ISLANDS (BISCOE, TORGERSEN, DREAM)</H3>"
   ]
  },
  {
   "cell_type": "markdown",
   "id": "2d8c28b4-b8fb-46e4-9599-d026a4c89e0e",
   "metadata": {},
   "source": [
    "<H1>CHINSTRAP</H1>"
   ]
  },
  {
   "cell_type": "code",
   "execution_count": 74,
   "id": "f8d18cfb-f765-492b-808b-736d83747e05",
   "metadata": {},
   "outputs": [
    {
     "name": "stdout",
     "output_type": "stream",
     "text": [
      "<class 'pandas.core.frame.DataFrame'>\n",
      "Index: 0 entries\n",
      "Data columns (total 10 columns):\n",
      " #   Column             Non-Null Count  Dtype   \n",
      "---  ------             --------------  -----   \n",
      " 0   rowid              0 non-null      category\n",
      " 1   species            0 non-null      category\n",
      " 2   island             0 non-null      category\n",
      " 3   bill_length_mm     0 non-null      float64 \n",
      " 4   bill_depth_mm      0 non-null      float64 \n",
      " 5   flipper_length_mm  0 non-null      float64 \n",
      " 6   body_mass_g        0 non-null      float64 \n",
      " 7   sex                0 non-null      category\n",
      " 8   year               0 non-null      category\n",
      " 9   weight             0 non-null      float64 \n",
      "dtypes: category(5), float64(5)\n",
      "memory usage: 11.3 KB\n"
     ]
    }
   ],
   "source": [
    "chinstrapbiscoe = birds[(birds['species'] == \"Chinstrap\") & (birds['island'] == \"Biscoe\" )]\n",
    "chinstrapbiscoe.info()"
   ]
  },
  {
   "cell_type": "code",
   "execution_count": 75,
   "id": "e94d7a91-bded-469a-a6cc-493a5a766767",
   "metadata": {},
   "outputs": [
    {
     "name": "stdout",
     "output_type": "stream",
     "text": [
      "<class 'pandas.core.frame.DataFrame'>\n",
      "Index: 68 entries, 276 to 343\n",
      "Data columns (total 10 columns):\n",
      " #   Column             Non-Null Count  Dtype   \n",
      "---  ------             --------------  -----   \n",
      " 0   rowid              68 non-null     category\n",
      " 1   species            68 non-null     category\n",
      " 2   island             68 non-null     category\n",
      " 3   bill_length_mm     68 non-null     float64 \n",
      " 4   bill_depth_mm      68 non-null     float64 \n",
      " 5   flipper_length_mm  68 non-null     float64 \n",
      " 6   body_mass_g        68 non-null     float64 \n",
      " 7   sex                68 non-null     category\n",
      " 8   year               68 non-null     category\n",
      " 9   weight             68 non-null     float64 \n",
      "dtypes: category(5), float64(5)\n",
      "memory usage: 14.9 KB\n"
     ]
    }
   ],
   "source": [
    "chinstrapdream = birds[(birds['species'] == \"Chinstrap\") & (birds['island'] == \"Dream\" )]\n",
    "chinstrapdream.info()"
   ]
  },
  {
   "cell_type": "code",
   "execution_count": 76,
   "id": "a8274115-7bbc-4322-9556-9ef858e59640",
   "metadata": {},
   "outputs": [
    {
     "name": "stdout",
     "output_type": "stream",
     "text": [
      "<class 'pandas.core.frame.DataFrame'>\n",
      "Index: 0 entries\n",
      "Data columns (total 10 columns):\n",
      " #   Column             Non-Null Count  Dtype   \n",
      "---  ------             --------------  -----   \n",
      " 0   rowid              0 non-null      category\n",
      " 1   species            0 non-null      category\n",
      " 2   island             0 non-null      category\n",
      " 3   bill_length_mm     0 non-null      float64 \n",
      " 4   bill_depth_mm      0 non-null      float64 \n",
      " 5   flipper_length_mm  0 non-null      float64 \n",
      " 6   body_mass_g        0 non-null      float64 \n",
      " 7   sex                0 non-null      category\n",
      " 8   year               0 non-null      category\n",
      " 9   weight             0 non-null      float64 \n",
      "dtypes: category(5), float64(5)\n",
      "memory usage: 11.3 KB\n"
     ]
    }
   ],
   "source": [
    "chinstraptorgersen = birds[(birds['species'] == \"Chinstrap\") & (birds['island'] == \"Torgersen\" )]\n",
    "chinstraptorgersen.info()"
   ]
  },
  {
   "cell_type": "markdown",
   "id": "4474f54d-a67a-4504-830e-b489e117b390",
   "metadata": {},
   "source": [
    "<H3>3. CHINSTRAP LIVE ON ONE ISLAND (DREAM)</H3>"
   ]
  },
  {
   "cell_type": "code",
   "execution_count": 77,
   "id": "9897df3c-e925-4f4f-9eb8-3bb5c817d8d6",
   "metadata": {},
   "outputs": [
    {
     "data": {
      "text/plain": [
       "species\n",
       "Adelie       152\n",
       "Gentoo       124\n",
       "Chinstrap     68\n",
       "Name: count, dtype: int64"
      ]
     },
     "execution_count": 77,
     "metadata": {},
     "output_type": "execute_result"
    }
   ],
   "source": [
    "birds['species'].value_counts()"
   ]
  },
  {
   "cell_type": "code",
   "execution_count": 78,
   "id": "1dd6c2a4-47ee-4f51-876c-d9f76fb5e04a",
   "metadata": {},
   "outputs": [
    {
     "data": {
      "text/plain": [
       "island\n",
       "Biscoe       168\n",
       "Dream        124\n",
       "Torgersen     52\n",
       "Name: count, dtype: int64"
      ]
     },
     "execution_count": 78,
     "metadata": {},
     "output_type": "execute_result"
    }
   ],
   "source": [
    "birds['island'].value_counts()"
   ]
  },
  {
   "cell_type": "markdown",
   "id": "febb1a3a-6e7f-4565-9860-25a6dd06c592",
   "metadata": {},
   "source": [
    "<h1>WEIGHT INSIGHTS</h1>"
   ]
  },
  {
   "cell_type": "code",
   "execution_count": 79,
   "id": "45a6164c-bdb8-4800-a7e1-417202c13498",
   "metadata": {},
   "outputs": [
    {
     "data": {
      "text/plain": [
       "np.float64(3.7)"
      ]
     },
     "execution_count": 79,
     "metadata": {},
     "output_type": "execute_result"
    }
   ],
   "source": [
    "adeliebiscoe_w = np.round(adeliebiscoe['weight'].mean(), 1)\n",
    "adeliebiscoe_w"
   ]
  },
  {
   "cell_type": "code",
   "execution_count": 80,
   "id": "95514c3f-1898-406b-a753-cfa72f18591a",
   "metadata": {},
   "outputs": [
    {
     "data": {
      "text/plain": [
       "np.float64(3.7)"
      ]
     },
     "execution_count": 80,
     "metadata": {},
     "output_type": "execute_result"
    }
   ],
   "source": [
    "adelietorgersen_w = np.round(adelietorgersen['weight'].mean(), 1)\n",
    "adelietorgersen_w"
   ]
  },
  {
   "cell_type": "code",
   "execution_count": 81,
   "id": "0581d22d-ded6-4f10-9bed-0fd7fb920898",
   "metadata": {},
   "outputs": [
    {
     "data": {
      "text/plain": [
       "np.float64(3.7)"
      ]
     },
     "execution_count": 81,
     "metadata": {},
     "output_type": "execute_result"
    }
   ],
   "source": [
    "adeliedream_w = np.round(adeliedream['weight'].mean(), 1)\n",
    "adeliedream_w"
   ]
  },
  {
   "cell_type": "markdown",
   "id": "0980b3a3-017c-479d-ace7-d6136c3b322f",
   "metadata": {},
   "source": [
    "<h3>4. THERE IS NO IMPACT IN THE WEIGHT OF ADELIE ON EACH ISLAND</h3>"
   ]
  },
  {
   "cell_type": "code",
   "execution_count": 82,
   "id": "7ee00820-7ee0-43dc-bc6e-62eae439f994",
   "metadata": {},
   "outputs": [
    {
     "data": {
      "text/plain": [
       "np.float64(5.1)"
      ]
     },
     "execution_count": 82,
     "metadata": {},
     "output_type": "execute_result"
    }
   ],
   "source": [
    "gentoobiscoe_w = np.round(gentoobiscoe['weight'].mean(), 1)\n",
    "gentoobiscoe_w"
   ]
  },
  {
   "cell_type": "markdown",
   "id": "9ab7e7b5-26fb-4ac8-8209-a367751aa22b",
   "metadata": {},
   "source": [
    "<h3>5. GENTOO'S AVERAGE WEIGHT ON BISCOE (5.1)</h3>"
   ]
  },
  {
   "cell_type": "code",
   "execution_count": 68,
   "id": "16e899db-1a25-4e7c-821d-715c6a93e37d",
   "metadata": {},
   "outputs": [
    {
     "data": {
      "text/plain": [
       "np.float64(3.7)"
      ]
     },
     "execution_count": 68,
     "metadata": {},
     "output_type": "execute_result"
    }
   ],
   "source": [
    "chinstrapdream_w = np.round(chinstrapdream['weight'].mean(), 1)\n",
    "chinstrapdream_w"
   ]
  },
  {
   "cell_type": "markdown",
   "id": "2bf38488-6fa5-4faf-a2c6-d708743c5429",
   "metadata": {},
   "source": [
    "<h3>6. CHINSTRAP'S AVERAGE WEIGHT ON DREAM (3.7)</h3>"
   ]
  },
  {
   "cell_type": "markdown",
   "id": "3a91c87c-92ea-4108-bce5-4f66d79990e5",
   "metadata": {},
   "source": [
    "<H3>7. HEAVIEST SPECIE IS GENTOO WITH AVERAGE WEIGHT OF 5kg</H3>"
   ]
  },
  {
   "cell_type": "code",
   "execution_count": null,
   "id": "6ee39d5a-8ca8-4e8e-a309-a0dce5a00bac",
   "metadata": {},
   "outputs": [],
   "source": []
  }
 ],
 "metadata": {
  "kernelspec": {
   "display_name": "Python 3 (ipykernel)",
   "language": "python",
   "name": "python3"
  },
  "language_info": {
   "codemirror_mode": {
    "name": "ipython",
    "version": 3
   },
   "file_extension": ".py",
   "mimetype": "text/x-python",
   "name": "python",
   "nbconvert_exporter": "python",
   "pygments_lexer": "ipython3",
   "version": "3.13.0"
  }
 },
 "nbformat": 4,
 "nbformat_minor": 5
}
